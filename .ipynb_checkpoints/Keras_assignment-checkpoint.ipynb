{
 "cells": [
  {
   "cell_type": "markdown",
   "metadata": {},
   "source": [
    "# Classify different data sets"
   ]
  },
  {
   "cell_type": "markdown",
   "metadata": {},
   "source": [
    "### Basic includes"
   ]
  },
  {
   "cell_type": "code",
   "execution_count": 1,
   "metadata": {},
   "outputs": [
    {
     "name": "stderr",
     "output_type": "stream",
     "text": [
      "Using TensorFlow backend.\n"
     ]
    }
   ],
   "source": [
    "# Using pandas to load the csv file\n",
    "import pandas as pd\n",
    "\n",
    "import numpy as np\n",
    "import matplotlib.pyplot as plt\n",
    "\n",
    "from keras import models \n",
    "from keras import layers \n",
    "from keras import callbacks\n",
    "from keras import optimizers\n",
    "from keras.utils import to_categorical\n",
    "\n",
    "# reuters and fashin mnist data set from keras\n",
    "from keras.datasets import reuters\n",
    "from keras.datasets import fashion_mnist\n",
    "\n",
    "# needed to preprocess text\n",
    "from keras.preprocessing.text import Tokenizer"
   ]
  },
  {
   "cell_type": "markdown",
   "metadata": {},
   "source": [
    "### Classify the Fashion Mnist\n",
    "\n",
    "---"
   ]
  },
  {
   "cell_type": "code",
   "execution_count": null,
   "metadata": {},
   "outputs": [],
   "source": [
    "(fashion_train_data, fashion_train_labels), (fashion_test_data, fashion_test_labels) = fashion_mnist.load_data()\n",
    "\n",
    "print(fashion_train_data.shape)\n",
    "print(fashion_test_data.shape)\n",
    "test_index = 10\n",
    "plt.title(\"Label: \" + str(fashion_train_labels[test_index]))\n",
    "plt.imshow(fashion_train_data[test_index], cmap=\"gray\")"
   ]
  },
  {
   "cell_type": "markdown",
   "metadata": {},
   "source": [
    "## Standarizing images\n",
    "\n",
    "standarizing data images and creating one hot labels"
   ]
  },
  {
   "cell_type": "markdown",
   "metadata": {},
   "source": [
    "#### TO DO: Preprocess the data\n",
    "\n",
    "1. Normalize the input data set\n",
    "2. Perform one hot encoding\n",
    "3. Create a train, test, and validation set"
   ]
  },
  {
   "cell_type": "code",
   "execution_count": null,
   "metadata": {},
   "outputs": [],
   "source": [
    "fashion_train_data = fashion_train_data.reshape((60000, 28 * 28))\n",
    "fashion_train_data = fashion_train_data.astype('float32') / 255 \n",
    "\n",
    "fashion_test_data = fashion_test_data.reshape((10000, 28 * 28)) \n",
    "fashion_test_data = fashion_test_data.astype('float32') / 255\n",
    "\n",
    "# one hot encoding\n",
    "fashion_one_hot_labels = to_categorical(fashion_train_labels)\n",
    "fashion_test_one_hot_labels = to_categorical(fashion_test_labels)\n",
    "\n",
    "#creating validation set for first 10000 elements\n",
    "fashion_validation_data = fashion_train_data[:10000]\n",
    "fashion_validation_labels = fashion_one_hot_labels[:10000]\n",
    "\n",
    "#creating input set\n",
    "x_data = fashion_train_data[10000:]\n",
    "y_data = fashion_one_hot_labels[10000:]\n",
    "print(x_data.shape)\n",
    "print(y_data.shape)"
   ]
  },
  {
   "cell_type": "markdown",
   "metadata": {},
   "source": [
    "#### TO DO: Define and train a network, then plot the accuracy of the training, validation, and testing\n",
    "\n",
    "1. Use a validation set\n",
    "2. Propose and train a network\n",
    "3. Print the history of the training\n",
    "4. Evaluate with a test set"
   ]
  },
  {
   "cell_type": "code",
   "execution_count": null,
   "metadata": {},
   "outputs": [],
   "source": [
    "#building keras model\n",
    "model = models.Sequential()\n",
    "model.add(layers.Dense(256, activation='relu', input_dim=784))\n",
    "model.add(layers.Dropout(0.4))\n",
    "model.add(layers.Dense(128, activation='relu'))\n",
    "model.add(layers.Dropout(0.4))\n",
    "model.add(layers.Dense(len(fashion_one_hot_labels[0]), activation='softmax'))\n",
    "model.summary()\n",
    "\n",
    "# included the early stopping which monitors the validation loss\n",
    "early_stop = callbacks.EarlyStopping(monitor='val_loss', patience=4)\n",
    "model.compile(loss='categorical_hinge', \n",
    "              optimizer='rmsprop',\n",
    "              metrics=['accuracy'])"
   ]
  },
  {
   "cell_type": "code",
   "execution_count": null,
   "metadata": {},
   "outputs": [],
   "source": [
    "history = model.fit(x_data, y_data,\n",
    "          batch_size=512,\n",
    "          epochs=40,\n",
    "          validation_data=(fashion_validation_data, fashion_validation_labels),\n",
    "          callbacks=[early_stop],\n",
    "          verbose=2)"
   ]
  },
  {
   "cell_type": "code",
   "execution_count": null,
   "metadata": {},
   "outputs": [],
   "source": [
    "#evaluating the model with the test data\n",
    "results = model.evaluate(fashion_test_data, fashion_test_one_hot_labels)\n",
    "print(results)\n",
    "\n",
    "history_dict = history.history\n",
    "print(history_dict.keys())\n",
    "\n",
    "#creating list variables for plotting validation\n",
    "acc = history_dict['acc']\n",
    "val_acc = history_dict['val_acc']\n",
    "loss = history_dict['loss']\n",
    "val_loss = history_dict['val_loss']\n",
    "epochs = range(1, len(acc) + 1)\n",
    "\n",
    "\n",
    "\n",
    "#plotting validation and training loss\n",
    "\n",
    "plt.plot(epochs, loss, 'bo', label='Training loss')\n",
    "plt.plot(epochs, val_loss, 'b', label='Validation loss')\n",
    "plt.title('Training and validation loss')\n",
    "plt.xlabel('Epochs')\n",
    "plt.ylabel('Loss')\n",
    "plt.legend()\n",
    "\n",
    "plt.show()"
   ]
  },
  {
   "cell_type": "code",
   "execution_count": null,
   "metadata": {},
   "outputs": [],
   "source": [
    "#plotting validation and train accuracy\n",
    "\n",
    "plt.clf()\n",
    "\n",
    "plt.plot(epochs, acc, 'bo', label='Training acc')\n",
    "plt.plot(epochs, val_acc, 'b', label='Validation acc')\n",
    "plt.title('Training and validation accuracy')\n",
    "plt.xlabel('Epochs')\n",
    "plt.ylabel('Accuracy')\n",
    "plt.legend()\n",
    "\n",
    "plt.show()"
   ]
  },
  {
   "cell_type": "markdown",
   "metadata": {},
   "source": [
    "## Classifying newswires\n",
    "\n",
    "---\n",
    "\n",
    "Build a network to classify Reuters newswires into 46 different mutually-exclusive topics."
   ]
  },
  {
   "cell_type": "markdown",
   "metadata": {},
   "source": [
    "### Load and review the data"
   ]
  },
  {
   "cell_type": "code",
   "execution_count": 2,
   "metadata": {},
   "outputs": [
    {
     "name": "stdout",
     "output_type": "stream",
     "text": [
      "(8982,)\n",
      "(8982,)\n",
      "[1, 2, 2, 8, 43, 10, 447, 5, 25, 207, 270, 5, 3095, 111, 16, 369, 186, 90, 67, 7, 89, 5, 19, 102, 6, 19, 124, 15, 90, 67, 84, 22, 482, 26, 7, 48, 4, 49, 8, 864, 39, 209, 154, 6, 151, 6, 83, 11, 15, 22, 155, 11, 15, 7, 48, 9, 4579, 1005, 504, 6, 258, 6, 272, 11, 15, 22, 134, 44, 11, 15, 16, 8, 197, 1245, 90, 67, 52, 29, 209, 30, 32, 132, 6, 109, 15, 17, 12]\n",
      "3\n",
      "{0, 1, 2, 3, 4, 5, 6, 7, 8, 9, 10, 11, 12, 13, 14, 15, 16, 17, 18, 19, 20, 21, 22, 23, 24, 25, 26, 27, 28, 29, 30, 31, 32, 33, 34, 35, 36, 37, 38, 39, 40, 41, 42, 43, 44, 45}\n"
     ]
    }
   ],
   "source": [
    "(reuters_train_data, reuters_train_labels),(reuters_test_data, reuters_test_labels) = reuters.load_data(num_words=10000)\n",
    "\n",
    "print(reuters_train_data.shape)\n",
    "print(reuters_train_labels.shape)\n",
    "print(reuters_train_data[0])\n",
    "print(reuters_train_labels[0])\n",
    "print(set(reuters_train_labels))"
   ]
  },
  {
   "cell_type": "markdown",
   "metadata": {},
   "source": [
    "Load the word index to decode the train data."
   ]
  },
  {
   "cell_type": "code",
   "execution_count": 3,
   "metadata": {},
   "outputs": [
    {
     "name": "stdout",
     "output_type": "stream",
     "text": [
      "<START> <UNKNOWN> <UNKNOWN> said as a result of its december acquisition of space co it expects earnings per share in 1987 of 1 15 to 1 30 dlrs per share up from 70 cts in 1986 the company said pretax net should rise to nine to 10 mln dlrs from six mln dlrs in 1986 and rental operation revenues to 19 to 22 mln dlrs from 12 5 mln dlrs it said cash flow per share this year should be 2 50 to three dlrs reuter 3\n"
     ]
    }
   ],
   "source": [
    "word_index = reuters.get_word_index()\n",
    "\n",
    "reverse_index = dict([(value+3, key) for (key, value) in word_index.items()])\n",
    "\n",
    "reverse_index[0] = \"<PAD>\"\n",
    "reverse_index[1] = \"<START>\"\n",
    "reverse_index[2] = \"<UNKNOWN>\"  # unknown\n",
    "reverse_index[3] = \"<UNUSED>\"\n",
    "\n",
    "decoded_review = ' '.join([reverse_index.get(i,'?') for i in reuters_train_data[0]])\n",
    "\n",
    "print(decoded_review)"
   ]
  },
  {
   "cell_type": "markdown",
   "metadata": {},
   "source": [
    "#### TO DO: Preprocess the data\n",
    "\n",
    "1. Normalize the input data set\n",
    "2. Perform one hot encoding\n",
    "3. Create a train, test, and validation set"
   ]
  },
  {
   "cell_type": "code",
   "execution_count": 4,
   "metadata": {},
   "outputs": [
    {
     "name": "stdout",
     "output_type": "stream",
     "text": [
      "(8982, 8982)\n",
      "(2246, 8982)\n",
      "(8982, 46)\n",
      "(2246, 46)\n",
      "(2982, 8982)\n",
      "(2982, 46)\n",
      "x: (6000, 8982)\n",
      "y: (6000, 46)\n"
     ]
    }
   ],
   "source": [
    "tokenizer = Tokenizer(reuters_train_data.shape[0])\n",
    "reuters_train_data_token = tokenizer.sequences_to_matrix(reuters_train_data, mode='binary')\n",
    "reuters_test_data_token = tokenizer.sequences_to_matrix(reuters_test_data, mode='binary')\n",
    "print(reuters_train_data_token.shape)\n",
    "print(reuters_test_data_token.shape)\n",
    "\n",
    "# One-hot encoding the output\n",
    "reuters_one_hot_train_labels = to_categorical(reuters_train_labels)\n",
    "reuters_one_hot_test_labels = to_categorical(reuters_test_labels)\n",
    "print(reuters_one_hot_train_labels.shape)\n",
    "print(reuters_one_hot_test_labels.shape)\n",
    "\n",
    "# Creating a validation set with the first 10000 reviews\n",
    "reuters_validation_data = reuters_train_data_token[:2982]\n",
    "reuters_validation_labels = reuters_one_hot_train_labels[:2982]\n",
    "print(reuters_validation_data.shape)\n",
    "print(reuters_validation_labels.shape)\n",
    "# Creating the input set for the \n",
    "x_data = reuters_train_data_token[2982:]\n",
    "y_data = reuters_one_hot_train_labels[2982:]\n",
    "print(\"x:\",x_data.shape)\n",
    "print(\"y:\",y_data.shape)"
   ]
  },
  {
   "cell_type": "code",
   "execution_count": 5,
   "metadata": {},
   "outputs": [
    {
     "name": "stdout",
     "output_type": "stream",
     "text": [
      "_________________________________________________________________\n",
      "Layer (type)                 Output Shape              Param #   \n",
      "=================================================================\n",
      "dense_1 (Dense)              (None, 256)               2299648   \n",
      "_________________________________________________________________\n",
      "dropout_1 (Dropout)          (None, 256)               0         \n",
      "_________________________________________________________________\n",
      "dense_2 (Dense)              (None, 128)               32896     \n",
      "_________________________________________________________________\n",
      "dropout_2 (Dropout)          (None, 128)               0         \n",
      "_________________________________________________________________\n",
      "dense_3 (Dense)              (None, 46)                5934      \n",
      "=================================================================\n",
      "Total params: 2,338,478\n",
      "Trainable params: 2,338,478\n",
      "Non-trainable params: 0\n",
      "_________________________________________________________________\n"
     ]
    }
   ],
   "source": [
    "#building keras model\n",
    "model1 = models.Sequential()\n",
    "model1.add(layers.Dense(256, activation='relu', input_dim=len(reuters_train_data)))\n",
    "model1.add(layers.Dense(128, activation='relu'))\n",
    "model1.add(layers.Dropout(0.3))\n",
    "model1.add(layers.Dense(len(reuters_one_hot_test_labels[0]), activation='softmax'))\n",
    "model1.summary()\n",
    "\n",
    "# included the early stopping which monitors the validation loss\n",
    "# early_stop = callbacks.EarlyStopping(monitor='val_loss', patience=4)\n",
    "\n",
    "model1.compile(loss='mean_absolute_error', \n",
    "              optimizer='adam',\n",
    "              metrics=['accuracy'])"
   ]
  },
  {
   "cell_type": "code",
   "execution_count": 6,
   "metadata": {},
   "outputs": [
    {
     "name": "stdout",
     "output_type": "stream",
     "text": [
      "Train on 6000 samples, validate on 2982 samples\n",
      "Epoch 1/50\n",
      " - 4s - loss: 0.0284 - acc: 0.4683 - val_loss: 0.0204 - val_acc: 0.5319\n",
      "Epoch 2/50\n",
      " - 3s - loss: 0.0198 - acc: 0.5465 - val_loss: 0.0203 - val_acc: 0.5335\n",
      "Epoch 3/50\n",
      " - 3s - loss: 0.0195 - acc: 0.5535 - val_loss: 0.0202 - val_acc: 0.5362\n",
      "Epoch 4/50\n",
      " - 3s - loss: 0.0193 - acc: 0.5560 - val_loss: 0.0203 - val_acc: 0.5322\n",
      "Epoch 5/50\n",
      " - 3s - loss: 0.0193 - acc: 0.5577 - val_loss: 0.0202 - val_acc: 0.5359\n",
      "Epoch 6/50\n",
      " - 3s - loss: 0.0192 - acc: 0.5585 - val_loss: 0.0202 - val_acc: 0.5369\n",
      "Epoch 7/50\n",
      " - 3s - loss: 0.0192 - acc: 0.5593 - val_loss: 0.0202 - val_acc: 0.5352\n",
      "Epoch 8/50\n",
      " - 3s - loss: 0.0192 - acc: 0.5600 - val_loss: 0.0202 - val_acc: 0.5362\n",
      "Epoch 9/50\n",
      " - 4s - loss: 0.0191 - acc: 0.5602 - val_loss: 0.0202 - val_acc: 0.5345\n",
      "Epoch 10/50\n",
      " - 3s - loss: 0.0191 - acc: 0.5610 - val_loss: 0.0203 - val_acc: 0.5332\n",
      "Epoch 11/50\n",
      " - 3s - loss: 0.0188 - acc: 0.5692 - val_loss: 0.0189 - val_acc: 0.5661\n",
      "Epoch 12/50\n",
      " - 3s - loss: 0.0163 - acc: 0.6270 - val_loss: 0.0164 - val_acc: 0.6264\n",
      "Epoch 13/50\n",
      " - 3s - loss: 0.0150 - acc: 0.6558 - val_loss: 0.0162 - val_acc: 0.6288\n",
      "Epoch 14/50\n",
      " - 2s - loss: 0.0148 - acc: 0.6605 - val_loss: 0.0162 - val_acc: 0.6284\n",
      "Epoch 15/50\n",
      " - 2s - loss: 0.0145 - acc: 0.6672 - val_loss: 0.0151 - val_acc: 0.6536\n",
      "Epoch 16/50\n",
      " - 2s - loss: 0.0134 - acc: 0.6940 - val_loss: 0.0148 - val_acc: 0.6606\n",
      "Epoch 17/50\n",
      " - 2s - loss: 0.0130 - acc: 0.7028 - val_loss: 0.0143 - val_acc: 0.6761\n",
      "Epoch 18/50\n",
      " - 2s - loss: 0.0116 - acc: 0.7382 - val_loss: 0.0133 - val_acc: 0.6958\n",
      "Epoch 19/50\n",
      " - 2s - loss: 0.0111 - acc: 0.7463 - val_loss: 0.0133 - val_acc: 0.6958\n",
      "Epoch 20/50\n",
      " - 2s - loss: 0.0109 - acc: 0.7513 - val_loss: 0.0134 - val_acc: 0.6958\n",
      "Epoch 21/50\n",
      " - 2s - loss: 0.0108 - acc: 0.7525 - val_loss: 0.0132 - val_acc: 0.6972\n",
      "Epoch 22/50\n",
      " - 2s - loss: 0.0105 - acc: 0.7597 - val_loss: 0.0129 - val_acc: 0.7062\n",
      "Epoch 23/50\n",
      " - 2s - loss: 0.0102 - acc: 0.7677 - val_loss: 0.0129 - val_acc: 0.7082\n",
      "Epoch 24/50\n",
      " - 2s - loss: 0.0098 - acc: 0.7773 - val_loss: 0.0127 - val_acc: 0.7099\n",
      "Epoch 25/50\n",
      " - 2s - loss: 0.0096 - acc: 0.7807 - val_loss: 0.0127 - val_acc: 0.7099\n",
      "Epoch 26/50\n",
      " - 2s - loss: 0.0095 - acc: 0.7827 - val_loss: 0.0125 - val_acc: 0.7140\n",
      "Epoch 27/50\n",
      " - 3s - loss: 0.0094 - acc: 0.7833 - val_loss: 0.0125 - val_acc: 0.7150\n",
      "Epoch 28/50\n",
      " - 2s - loss: 0.0095 - acc: 0.7828 - val_loss: 0.0125 - val_acc: 0.7143\n",
      "Epoch 29/50\n",
      " - 2s - loss: 0.0094 - acc: 0.7838 - val_loss: 0.0126 - val_acc: 0.7123\n",
      "Epoch 30/50\n",
      " - 2s - loss: 0.0094 - acc: 0.7837 - val_loss: 0.0125 - val_acc: 0.7126\n",
      "Epoch 31/50\n",
      " - 2s - loss: 0.0094 - acc: 0.7838 - val_loss: 0.0125 - val_acc: 0.7160\n",
      "Epoch 32/50\n",
      " - 4s - loss: 0.0094 - acc: 0.7842 - val_loss: 0.0124 - val_acc: 0.7150\n",
      "Epoch 33/50\n",
      " - 3s - loss: 0.0094 - acc: 0.7843 - val_loss: 0.0125 - val_acc: 0.7146\n",
      "Epoch 34/50\n",
      " - 3s - loss: 0.0094 - acc: 0.7842 - val_loss: 0.0125 - val_acc: 0.7143\n",
      "Epoch 35/50\n",
      " - 3s - loss: 0.0094 - acc: 0.7845 - val_loss: 0.0124 - val_acc: 0.7150\n",
      "Epoch 36/50\n",
      " - 3s - loss: 0.0094 - acc: 0.7845 - val_loss: 0.0125 - val_acc: 0.7160\n",
      "Epoch 37/50\n",
      " - 3s - loss: 0.0094 - acc: 0.7850 - val_loss: 0.0124 - val_acc: 0.7183\n",
      "Epoch 38/50\n",
      " - 3s - loss: 0.0092 - acc: 0.7890 - val_loss: 0.0125 - val_acc: 0.7150\n",
      "Epoch 39/50\n",
      " - 3s - loss: 0.0091 - acc: 0.7908 - val_loss: 0.0124 - val_acc: 0.7156\n",
      "Epoch 40/50\n",
      " - 2s - loss: 0.0090 - acc: 0.7930 - val_loss: 0.0123 - val_acc: 0.7203\n",
      "Epoch 41/50\n",
      " - 2s - loss: 0.0089 - acc: 0.7962 - val_loss: 0.0121 - val_acc: 0.7233\n",
      "Epoch 42/50\n",
      " - 3s - loss: 0.0089 - acc: 0.7965 - val_loss: 0.0121 - val_acc: 0.7230\n",
      "Epoch 43/50\n",
      " - 3s - loss: 0.0088 - acc: 0.7972 - val_loss: 0.0121 - val_acc: 0.7243\n",
      "Epoch 44/50\n",
      " - 2s - loss: 0.0088 - acc: 0.7972 - val_loss: 0.0121 - val_acc: 0.7243\n",
      "Epoch 45/50\n",
      " - 3s - loss: 0.0088 - acc: 0.7975 - val_loss: 0.0121 - val_acc: 0.7243\n",
      "Epoch 46/50\n",
      " - 2s - loss: 0.0088 - acc: 0.7973 - val_loss: 0.0122 - val_acc: 0.7220\n",
      "Epoch 47/50\n",
      " - 2s - loss: 0.0088 - acc: 0.7973 - val_loss: 0.0120 - val_acc: 0.7233\n",
      "Epoch 48/50\n",
      " - 4s - loss: 0.0088 - acc: 0.7978 - val_loss: 0.0122 - val_acc: 0.7200\n",
      "Epoch 49/50\n",
      " - 4s - loss: 0.0087 - acc: 0.8010 - val_loss: 0.0121 - val_acc: 0.7227\n",
      "Epoch 50/50\n",
      " - 3s - loss: 0.0085 - acc: 0.8053 - val_loss: 0.0120 - val_acc: 0.7260\n"
     ]
    }
   ],
   "source": [
    "history = model1.fit(x_data, y_data,\n",
    "          batch_size=128,\n",
    "          epochs=50,\n",
    "          validation_data=(reuters_validation_data, reuters_validation_labels),\n",
    "          verbose=2)"
   ]
  },
  {
   "cell_type": "code",
   "execution_count": 7,
   "metadata": {},
   "outputs": [
    {
     "name": "stdout",
     "output_type": "stream",
     "text": [
      "(2246,)\n",
      "(2246, 46)\n",
      "2246/2246 [==============================] - 1s 250us/step\n",
      "[0.01241923950426778, 0.7163846839089958]\n",
      "dict_keys(['val_loss', 'val_acc', 'loss', 'acc'])\n"
     ]
    },
    {
     "data": {
      "image/png": "[encoded data removed]",
      "text/plain": [
       "<Figure size 432x288 with 1 Axes>"
      ]
     },
     "metadata": {
      "needs_background": "light"
     },
     "output_type": "display_data"
    }
   ],
   "source": [
    "#evaluating the model with the test data\n",
    "print(reuters_test_data.shape)\n",
    "print(reuters_one_hot_test_labels.shape)\n",
    "results = model1.evaluate(reuters_test_data_token, reuters_one_hot_test_labels)\n",
    "print(results)\n",
    "\n",
    "history_dict = history.history\n",
    "print(history_dict.keys())\n",
    "\n",
    "#creating list variables for plotting validation\n",
    "acc = history_dict['acc']\n",
    "val_acc = history_dict['val_acc']\n",
    "loss = history_dict['loss']\n",
    "val_loss = history_dict['val_loss']\n",
    "epochs = range(1, len(acc) + 1)\n",
    "\n",
    "\n",
    "\n",
    "#plotting validation and training loss\n",
    "\n",
    "plt.plot(epochs, loss, 'r', label='Training loss')\n",
    "plt.plot(epochs, val_loss, 'b', label='Validation loss')\n",
    "plt.title('Training and validation loss')\n",
    "plt.xlabel('Epochs')\n",
    "plt.ylabel('Loss')\n",
    "plt.legend()\n",
    "\n",
    "plt.show()"
   ]
  },
  {
   "cell_type": "code",
   "execution_count": 8,
   "metadata": {},
   "outputs": [
    {
     "data": {
      "image/png": "[encoded data removed]",
      "text/plain": [
       "<Figure size 432x288 with 1 Axes>"
      ]
     },
     "metadata": {
      "needs_background": "light"
     },
     "output_type": "display_data"
    }
   ],
   "source": [
    "#plotting validation and train accuracy\n",
    "\n",
    "plt.clf()\n",
    "\n",
    "plt.plot(epochs, acc, 'r', label='Training acc')\n",
    "plt.plot(epochs, val_acc, 'b', label='Validation acc')\n",
    "plt.title('Training and validation accuracy')\n",
    "plt.xlabel('Epochs')\n",
    "plt.ylabel('Accuracy')\n",
    "plt.legend()\n",
    "\n",
    "plt.show()"
   ]
  },
  {
   "cell_type": "markdown",
   "metadata": {},
   "source": [
    "#### TO DO: Define and train a network, then plot the accuracy of the training, validation, and testing\n",
    "\n",
    "1. Use a validation set\n",
    "2. Propose and train a network\n",
    "3. Print the history of the training\n",
    "4. Evaluate with a test set"
   ]
  },
  {
   "cell_type": "markdown",
   "metadata": {},
   "source": [
    "## Predicting Student Admissions\n",
    "\n",
    "---\n",
    "\n",
    "Predict student admissions based on three pieces of data:\n",
    "\n",
    "- GRE Scores\n",
    "- GPA Scores\n",
    "- Class rank"
   ]
  },
  {
   "cell_type": "markdown",
   "metadata": {},
   "source": [
    "### Load and visualize the data"
   ]
  },
  {
   "cell_type": "code",
   "execution_count": 9,
   "metadata": {},
   "outputs": [
    {
     "name": "stdout",
     "output_type": "stream",
     "text": [
      "     admit    gre   gpa  rank\n",
      "0        0  380.0  3.61   3.0\n",
      "1        1  660.0  3.67   3.0\n",
      "2        1  800.0  4.00   1.0\n",
      "3        1  640.0  3.19   4.0\n",
      "4        0  520.0  2.93   4.0\n",
      "5        1  760.0  3.00   2.0\n",
      "6        1  560.0  2.98   1.0\n",
      "7        0  400.0  3.08   2.0\n",
      "8        1  540.0  3.39   3.0\n",
      "9        0  700.0  3.92   2.0\n",
      "10       0  800.0  4.00   4.0\n",
      "11       0  440.0  3.22   1.0\n",
      "12       1  760.0  4.00   1.0\n",
      "13       0  700.0  3.08   2.0\n",
      "14       1  700.0  4.00   1.0\n",
      "15       0  480.0  3.44   3.0\n",
      "16       0  780.0  3.87   4.0\n",
      "17       0  360.0  2.56   3.0\n",
      "18       0  800.0  3.75   2.0\n",
      "19       1  540.0  3.81   1.0\n",
      "20       0  500.0  3.17   3.0\n",
      "21       1  660.0  3.63   2.0\n",
      "22       0  600.0  2.82   4.0\n",
      "23       0  680.0  3.19   4.0\n",
      "24       1  760.0  3.35   2.0\n",
      "25       1  800.0  3.66   1.0\n",
      "26       1  620.0  3.61   1.0\n",
      "27       1  520.0  3.74   4.0\n",
      "28       1  780.0  3.22   2.0\n",
      "29       0  520.0  3.29   1.0\n",
      "..     ...    ...   ...   ...\n",
      "370      1  540.0  3.77   2.0\n",
      "371      1  680.0  3.76   3.0\n",
      "372      1  680.0  2.42   1.0\n",
      "373      1  620.0  3.37   1.0\n",
      "374      0  560.0  3.78   2.0\n",
      "375      0  560.0  3.49   4.0\n",
      "376      0  620.0  3.63   2.0\n",
      "377      1  800.0  4.00   2.0\n",
      "378      0  640.0  3.12   3.0\n",
      "379      0  540.0  2.70   2.0\n",
      "380      0  700.0  3.65   2.0\n",
      "381      1  540.0  3.49   2.0\n",
      "382      0  540.0  3.51   2.0\n",
      "383      0  660.0  4.00   1.0\n",
      "384      1  480.0  2.62   2.0\n",
      "385      0  420.0  3.02   1.0\n",
      "386      1  740.0  3.86   2.0\n",
      "387      0  580.0  3.36   2.0\n",
      "388      0  640.0  3.17   2.0\n",
      "389      0  640.0  3.51   2.0\n",
      "390      1  800.0  3.05   2.0\n",
      "391      1  660.0  3.88   2.0\n",
      "392      1  600.0  3.38   3.0\n",
      "393      1  620.0  3.75   2.0\n",
      "394      1  460.0  3.99   3.0\n",
      "395      0  620.0  4.00   2.0\n",
      "396      0  560.0  3.04   3.0\n",
      "397      0  460.0  2.63   2.0\n",
      "398      0  700.0  3.65   2.0\n",
      "399      0  600.0  3.89   3.0\n",
      "\n",
      "[400 rows x 4 columns]\n"
     ]
    }
   ],
   "source": [
    "student_data = pd.read_csv(\"student_data.csv\")\n",
    "print(student_data)"
   ]
  },
  {
   "cell_type": "markdown",
   "metadata": {},
   "source": [
    "Plot of the GRE and the GPA from the data."
   ]
  },
  {
   "cell_type": "code",
   "execution_count": 10,
   "metadata": {},
   "outputs": [
    {
     "data": {
      "image/png": "[encoded data removed]",
      "text/plain": [
       "<Figure size 432x288 with 1 Axes>"
      ]
     },
     "metadata": {
      "needs_background": "light"
     },
     "output_type": "display_data"
    }
   ],
   "source": [
    "X = np.array(student_data[[\"gre\",\"gpa\"]])\n",
    "y = np.array(student_data[\"admit\"])\n",
    "admitted = X[np.argwhere(y==1)]\n",
    "rejected = X[np.argwhere(y==0)]\n",
    "plt.scatter([s[0][0] for s in rejected], [s[0][1] for s in rejected], s = 25, color = 'red', edgecolor = 'k')\n",
    "plt.scatter([s[0][0] for s in admitted], [s[0][1] for s in admitted], s = 25, color = 'cyan', edgecolor = 'k')\n",
    "plt.xlabel('Test (GRE)')\n",
    "plt.ylabel('Grades (GPA)')\n",
    "\n",
    "plt.show()"
   ]
  },
  {
   "cell_type": "markdown",
   "metadata": {},
   "source": [
    "Plot of the data by class rank."
   ]
  },
  {
   "cell_type": "code",
   "execution_count": 11,
   "metadata": {},
   "outputs": [
    {
     "data": {
      "image/png": "[encoded data removed]",
      "text/plain": [
       "<Figure size 1440x720 with 4 Axes>"
      ]
     },
     "metadata": {
      "needs_background": "light"
     },
     "output_type": "display_data"
    }
   ],
   "source": [
    "f, plots = plt.subplots(2, 2, figsize=(20,10))\n",
    "plots = [plot for sublist in plots for plot in sublist]\n",
    "\n",
    "for idx, plot in enumerate(plots):\n",
    "    data_rank = student_data[student_data[\"rank\"]==idx+1]\n",
    "    plot.set_title(\"Rank \" + str(idx+1))\n",
    "    X = np.array(data_rank[[\"gre\",\"gpa\"]])\n",
    "    y = np.array(data_rank[\"admit\"])\n",
    "    admitted = X[np.argwhere(y==1)]\n",
    "    rejected = X[np.argwhere(y==0)]\n",
    "    plot.scatter([s[0][0] for s in rejected], [s[0][1] for s in rejected], s = 25, color = 'red', edgecolor = 'k')\n",
    "    plot.scatter([s[0][0] for s in admitted], [s[0][1] for s in admitted], s = 25, color = 'cyan', edgecolor = 'k')\n",
    "    plot.set_xlabel('Test (GRE)')\n",
    "    plot.set_ylabel('Grades (GPA)')\n",
    "    "
   ]
  },
  {
   "cell_type": "markdown",
   "metadata": {},
   "source": [
    "#### TO DO: Preprocess the data\n",
    "\n",
    "1. Normalize the input data set\n",
    "2. Perform one hot encoding\n",
    "3. Create a train, test, and validation set"
   ]
  },
  {
   "cell_type": "code",
   "execution_count": 121,
   "metadata": {},
   "outputs": [
    {
     "name": "stdout",
     "output_type": "stream",
     "text": [
      "[[-1.79852406  0.57345662  0.         ...  0.          1.\n",
      "   0.        ]\n",
      " [ 0.62420903  0.73146398  0.         ...  0.          1.\n",
      "   0.        ]\n",
      " [ 1.83557557  1.60050448  0.         ...  0.          0.\n",
      "   0.        ]\n",
      " ...\n",
      " [-1.10631461 -2.00733032  0.         ...  1.          0.\n",
      "   0.        ]\n",
      " [ 0.97031376  0.67879486  0.         ...  1.          0.\n",
      "   0.        ]\n",
      " [ 0.10505194  1.31082431  0.         ...  0.          1.\n",
      "   0.        ]]\n"
     ]
    }
   ],
   "source": [
    "# admit    gre   gpa  rank\n",
    "student_data.fillna(value= 0, inplace= True)\n",
    "gpa = np.array(student_data[\"gpa\"])\n",
    "gpa = (gpa - np.nanmean(gpa))/np.nanstd(gpa)\n",
    "gre = np.array(student_data[\"gre\"])\n",
    "gre = (gre - np.nanmean(gre))/np.nanstd(gre)\n",
    "rank = np.array(student_data[\"rank\"])\n",
    "rank = to_categorical(rank)\n",
    "standarizedStudentData = np.zeros((len(gre), 2))\n",
    "standarizedStudentData[:,0] = gre\n",
    "standarizedStudentData[:,1] = gpa\n",
    "studentDataFinal = np.zeros((len(gre), 7))\n",
    "for i, (studentData, cat) in enumerate(zip(standarizedStudentData, rank)):\n",
    "    studentDataFinal[i] = np.concatenate((studentData, cat))\n",
    "print(studentDataFinal)"
   ]
  },
  {
   "cell_type": "markdown",
   "metadata": {},
   "source": []
  },
  {
   "cell_type": "code",
   "execution_count": null,
   "metadata": {},
   "outputs": [],
   "source": []
  },
  {
   "cell_type": "markdown",
   "metadata": {},
   "source": [
    "#### TO DO: Define and train a network, then plot the accuracy of the training, validation, and testing\n",
    "\n",
    "1. Use a validation set\n",
    "2. Propose and train a network\n",
    "3. Print the history of the training\n",
    "4. Evaluate with a test set"
   ]
  }
 ],
 "metadata": {
  "kernelspec": {
   "display_name": "Python 3",
   "language": "python",
   "name": "python3"
  },
  "language_info": {
   "codemirror_mode": {
    "name": "ipython",
    "version": 3
   },
   "file_extension": ".py",
   "mimetype": "text/x-python",
   "name": "python",
   "nbconvert_exporter": "python",
   "pygments_lexer": "ipython3",
   "version": "3.6.8"
  }
 },
 "nbformat": 4,
 "nbformat_minor": 2
}
