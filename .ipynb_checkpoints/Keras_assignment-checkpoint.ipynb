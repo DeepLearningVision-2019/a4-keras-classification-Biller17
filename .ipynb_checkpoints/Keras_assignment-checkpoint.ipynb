{
 "cells": [
  {
   "cell_type": "markdown",
   "metadata": {},
   "source": [
    "# Classify different data sets"
   ]
  },
  {
   "cell_type": "markdown",
   "metadata": {},
   "source": [
    "### Basic includes"
   ]
  },
  {
   "cell_type": "code",
   "execution_count": 1,
   "metadata": {},
   "outputs": [
    {
     "name": "stderr",
     "output_type": "stream",
     "text": [
      "Using TensorFlow backend.\n"
     ]
    }
   ],
   "source": [
    "# Using pandas to load the csv file\n",
    "import pandas as pd\n",
    "\n",
    "import numpy as np\n",
    "import matplotlib.pyplot as plt\n",
    "\n",
    "from keras import models \n",
    "from keras import layers \n",
    "from keras import callbacks\n",
    "from keras import optimizers\n",
    "from keras.utils import to_categorical\n",
    "\n",
    "# reuters and fashin mnist data set from keras\n",
    "from keras.datasets import reuters\n",
    "from keras.datasets import fashion_mnist\n",
    "\n",
    "# needed to preprocess text\n",
    "from keras.preprocessing.text import Tokenizer"
   ]
  },
  {
   "cell_type": "markdown",
   "metadata": {},
   "source": [
    "### Classify the Fashion Mnist\n",
    "\n",
    "---"
   ]
  },
  {
   "cell_type": "code",
   "execution_count": 2,
   "metadata": {},
   "outputs": [
    {
     "name": "stdout",
     "output_type": "stream",
     "text": [
      "(60000, 28, 28)\n",
      "(10000, 28, 28)\n"
     ]
    },
    {
     "data": {
      "text/plain": [
       "<matplotlib.image.AxesImage at 0x132872438>"
      ]
     },
     "execution_count": 2,
     "metadata": {},
     "output_type": "execute_result"
    },
    {
     "data": {
      "image/png": "[encoded data removed]",
      "text/plain": [
       "<Figure size 432x288 with 1 Axes>"
      ]
     },
     "metadata": {
      "needs_background": "light"
     },
     "output_type": "display_data"
    }
   ],
   "source": [
    "(fashion_train_data, fashion_train_labels), (fashion_test_data, fashion_test_labels) = fashion_mnist.load_data()\n",
    "\n",
    "print(fashion_train_data.shape)\n",
    "print(fashion_test_data.shape)\n",
    "test_index = 10\n",
    "plt.title(\"Label: \" + str(fashion_train_labels[test_index]))\n",
    "plt.imshow(fashion_train_data[test_index], cmap=\"gray\")"
   ]
  },
  {
   "cell_type": "markdown",
   "metadata": {},
   "source": [
    "## Standarizing images\n",
    "\n",
    "standarizing data images and creating one hot labels"
   ]
  },
  {
   "cell_type": "markdown",
   "metadata": {},
   "source": [
    "#### TO DO: Preprocess the data\n",
    "\n",
    "1. Normalize the input data set\n",
    "2. Perform one hot encoding\n",
    "3. Create a train, test, and validation set"
   ]
  },
  {
   "cell_type": "code",
   "execution_count": 3,
   "metadata": {},
   "outputs": [
    {
     "name": "stdout",
     "output_type": "stream",
     "text": [
      "(50000, 784)\n",
      "(50000, 10)\n"
     ]
    }
   ],
   "source": [
    "fashion_train_data = fashion_train_data.reshape((60000, 28 * 28))\n",
    "fashion_train_data = fashion_train_data.astype('float32') / 255 \n",
    "\n",
    "fashion_test_data = fashion_test_data.reshape((10000, 28 * 28)) \n",
    "fashion_test_data = fashion_test_data.astype('float32') / 255\n",
    "\n",
    "# one hot encoding\n",
    "fashion_one_hot_labels = to_categorical(fashion_train_labels)\n",
    "fashion_test_one_hot_labels = to_categorical(fashion_test_labels)\n",
    "\n",
    "#creating validation set for first 10000 elements\n",
    "fashion_validation_data = fashion_train_data[:10000]\n",
    "fashion_validation_labels = fashion_one_hot_labels[:10000]\n",
    "\n",
    "#creating input set\n",
    "x_data = fashion_train_data[10000:]\n",
    "y_data = fashion_one_hot_labels[10000:]\n",
    "print(x_data.shape)\n",
    "print(y_data.shape)"
   ]
  },
  {
   "cell_type": "markdown",
   "metadata": {},
   "source": [
    "#### TO DO: Define and train a network, then plot the accuracy of the training, validation, and testing\n",
    "\n",
    "1. Use a validation set\n",
    "2. Propose and train a network\n",
    "3. Print the history of the training\n",
    "4. Evaluate with a test set"
   ]
  },
  {
   "cell_type": "code",
   "execution_count": 4,
   "metadata": {},
   "outputs": [
    {
     "name": "stdout",
     "output_type": "stream",
     "text": [
      "_________________________________________________________________\n",
      "Layer (type)                 Output Shape              Param #   \n",
      "=================================================================\n",
      "dense_1 (Dense)              (None, 256)               200960    \n",
      "_________________________________________________________________\n",
      "dropout_1 (Dropout)          (None, 256)               0         \n",
      "_________________________________________________________________\n",
      "dense_2 (Dense)              (None, 128)               32896     \n",
      "_________________________________________________________________\n",
      "dropout_2 (Dropout)          (None, 128)               0         \n",
      "_________________________________________________________________\n",
      "dense_3 (Dense)              (None, 10)                1290      \n",
      "=================================================================\n",
      "Total params: 235,146\n",
      "Trainable params: 235,146\n",
      "Non-trainable params: 0\n",
      "_________________________________________________________________\n"
     ]
    }
   ],
   "source": [
    "#building keras model\n",
    "model = models.Sequential()\n",
    "model.add(layers.Dense(256, activation='relu', input_dim=784))\n",
    "model.add(layers.Dropout(0.4))\n",
    "model.add(layers.Dense(128, activation='relu'))\n",
    "model.add(layers.Dropout(0.4))\n",
    "model.add(layers.Dense(len(fashion_one_hot_labels[0]), activation='softmax'))\n",
    "model.summary()\n",
    "\n",
    "# included the early stopping which monitors the validation loss\n",
    "early_stop = callbacks.EarlyStopping(monitor='val_loss', patience=4)\n",
    "model.compile(loss='categorical_hinge', \n",
    "              optimizer='rmsprop',\n",
    "              metrics=['accuracy'])"
   ]
  },
  {
   "cell_type": "code",
   "execution_count": 5,
   "metadata": {},
   "outputs": [
    {
     "name": "stdout",
     "output_type": "stream",
     "text": [
      "Train on 50000 samples, validate on 10000 samples\n",
      "Epoch 1/40\n",
      " - 2s - loss: 0.6291 - acc: 0.6657 - val_loss: 0.4280 - val_acc: 0.7825\n",
      "Epoch 2/40\n",
      " - 2s - loss: 0.4106 - acc: 0.7980 - val_loss: 0.3610 - val_acc: 0.8192\n",
      "Epoch 3/40\n",
      " - 1s - loss: 0.3633 - acc: 0.8208 - val_loss: 0.3200 - val_acc: 0.8383\n",
      "Epoch 4/40\n",
      " - 2s - loss: 0.3384 - acc: 0.8318 - val_loss: 0.3055 - val_acc: 0.8456\n",
      "Epoch 5/40\n",
      " - 1s - loss: 0.3211 - acc: 0.8400 - val_loss: 0.3114 - val_acc: 0.8444\n",
      "Epoch 6/40\n",
      " - 2s - loss: 0.3102 - acc: 0.8457 - val_loss: 0.2901 - val_acc: 0.8546\n",
      "Epoch 7/40\n",
      " - 1s - loss: 0.3003 - acc: 0.8495 - val_loss: 0.2853 - val_acc: 0.8565\n",
      "Epoch 8/40\n",
      " - 2s - loss: 0.2950 - acc: 0.8525 - val_loss: 0.2885 - val_acc: 0.8556\n",
      "Epoch 9/40\n",
      " - 2s - loss: 0.2883 - acc: 0.8558 - val_loss: 0.2675 - val_acc: 0.8660\n",
      "Epoch 10/40\n",
      " - 2s - loss: 0.2850 - acc: 0.8579 - val_loss: 0.2670 - val_acc: 0.8665\n",
      "Epoch 11/40\n",
      " - 2s - loss: 0.2795 - acc: 0.8604 - val_loss: 0.2687 - val_acc: 0.8645\n",
      "Epoch 12/40\n",
      " - 1s - loss: 0.2736 - acc: 0.8631 - val_loss: 0.2750 - val_acc: 0.8629\n",
      "Epoch 13/40\n",
      " - 1s - loss: 0.2698 - acc: 0.8643 - val_loss: 0.2606 - val_acc: 0.8687\n",
      "Epoch 14/40\n",
      " - 1s - loss: 0.2671 - acc: 0.8667 - val_loss: 0.2611 - val_acc: 0.8692\n",
      "Epoch 15/40\n",
      " - 1s - loss: 0.2636 - acc: 0.8682 - val_loss: 0.2662 - val_acc: 0.8661\n",
      "Epoch 16/40\n",
      " - 1s - loss: 0.2602 - acc: 0.8700 - val_loss: 0.2561 - val_acc: 0.8709\n",
      "Epoch 17/40\n",
      " - 1s - loss: 0.2592 - acc: 0.8703 - val_loss: 0.2820 - val_acc: 0.8580\n",
      "Epoch 18/40\n",
      " - 2s - loss: 0.2574 - acc: 0.8713 - val_loss: 0.2502 - val_acc: 0.8740\n",
      "Epoch 19/40\n",
      " - 2s - loss: 0.2520 - acc: 0.8733 - val_loss: 0.2553 - val_acc: 0.8698\n",
      "Epoch 20/40\n",
      " - 2s - loss: 0.2513 - acc: 0.8744 - val_loss: 0.2463 - val_acc: 0.8762\n",
      "Epoch 21/40\n",
      " - 2s - loss: 0.2515 - acc: 0.8746 - val_loss: 0.2649 - val_acc: 0.8668\n",
      "Epoch 22/40\n",
      " - 2s - loss: 0.2471 - acc: 0.8763 - val_loss: 0.2414 - val_acc: 0.8787\n",
      "Epoch 23/40\n",
      " - 2s - loss: 0.2499 - acc: 0.8745 - val_loss: 0.2679 - val_acc: 0.8657\n",
      "Epoch 24/40\n",
      " - 2s - loss: 0.2479 - acc: 0.8758 - val_loss: 0.2438 - val_acc: 0.8760\n",
      "Epoch 25/40\n",
      " - 2s - loss: 0.2459 - acc: 0.8773 - val_loss: 0.2463 - val_acc: 0.8755\n",
      "Epoch 26/40\n",
      " - 1s - loss: 0.2423 - acc: 0.8790 - val_loss: 0.2499 - val_acc: 0.8750\n"
     ]
    }
   ],
   "source": [
    "history = model.fit(x_data, y_data,\n",
    "          batch_size=512,\n",
    "          epochs=40,\n",
    "          validation_data=(fashion_validation_data, fashion_validation_labels),\n",
    "          callbacks=[early_stop],\n",
    "          verbose=2)"
   ]
  },
  {
   "cell_type": "code",
   "execution_count": 9,
   "metadata": {},
   "outputs": [
    {
     "name": "stdout",
     "output_type": "stream",
     "text": [
      "10000/10000 [==============================] - 0s 33us/step\n",
      "[0.2633243887126446, 0.8671]\n",
      "dict_keys(['val_loss', 'val_acc', 'loss', 'acc'])\n"
     ]
    },
    {
     "data": {
      "image/png": "[encoded data removed]",
      "text/plain": [
       "<Figure size 432x288 with 1 Axes>"
      ]
     },
     "metadata": {
      "needs_background": "light"
     },
     "output_type": "display_data"
    }
   ],
   "source": [
    "#evaluating the model with the test data\n",
    "results = model.evaluate(fashion_test_data, fashion_test_one_hot_labels)\n",
    "print(results)\n",
    "\n",
    "history_dict = history.history\n",
    "print(history_dict.keys())\n",
    "\n",
    "#creating list variables for plotting validation\n",
    "acc = history_dict['acc']\n",
    "val_acc = history_dict['val_acc']\n",
    "loss = history_dict['loss']\n",
    "val_loss = history_dict['val_loss']\n",
    "epochs = range(1, len(acc) + 1)\n",
    "\n",
    "\n",
    "\n",
    "#plotting validation and training loss\n",
    "\n",
    "plt.plot(epochs, loss, 'r', label='Training loss')\n",
    "plt.plot(epochs, val_loss, 'b', label='Validation loss')\n",
    "plt.title('Training and validation loss')\n",
    "plt.xlabel('Epochs')\n",
    "plt.ylabel('Loss')\n",
    "plt.legend()\n",
    "\n",
    "plt.show()"
   ]
  },
  {
   "cell_type": "code",
   "execution_count": 8,
   "metadata": {},
   "outputs": [
    {
     "data": {
      "image/png": "[encoded data removed]",
      "text/plain": [
       "<Figure size 432x288 with 1 Axes>"
      ]
     },
     "metadata": {
      "needs_background": "light"
     },
     "output_type": "display_data"
    }
   ],
   "source": [
    "#plotting validation and train accuracy\n",
    "\n",
    "plt.clf()\n",
    "\n",
    "plt.plot(epochs, acc, 'r', label='Training acc')\n",
    "plt.plot(epochs, val_acc, 'b', label='Validation acc')\n",
    "plt.title('Training and validation accuracy')\n",
    "plt.xlabel('Epochs')\n",
    "plt.ylabel('Accuracy')\n",
    "plt.legend()\n",
    "\n",
    "plt.show()"
   ]
  },
  {
   "cell_type": "markdown",
   "metadata": {},
   "source": [
    "## Classifying newswires\n",
    "\n",
    "---\n",
    "\n",
    "Build a network to classify Reuters newswires into 46 different mutually-exclusive topics."
   ]
  },
  {
   "cell_type": "markdown",
   "metadata": {},
   "source": [
    "### Load and review the data"
   ]
  },
  {
   "cell_type": "code",
   "execution_count": 3,
   "metadata": {},
   "outputs": [
    {
     "name": "stdout",
     "output_type": "stream",
     "text": [
      "(8982,)\n",
      "(8982,)\n",
      "[1, 2, 2, 8, 43, 10, 447, 5, 25, 207, 270, 5, 3095, 111, 16, 369, 186, 90, 67, 7, 89, 5, 19, 102, 6, 19, 124, 15, 90, 67, 84, 22, 482, 26, 7, 48, 4, 49, 8, 864, 39, 209, 154, 6, 151, 6, 83, 11, 15, 22, 155, 11, 15, 7, 48, 9, 4579, 1005, 504, 6, 258, 6, 272, 11, 15, 22, 134, 44, 11, 15, 16, 8, 197, 1245, 90, 67, 52, 29, 209, 30, 32, 132, 6, 109, 15, 17, 12]\n",
      "3\n",
      "{0, 1, 2, 3, 4, 5, 6, 7, 8, 9, 10, 11, 12, 13, 14, 15, 16, 17, 18, 19, 20, 21, 22, 23, 24, 25, 26, 27, 28, 29, 30, 31, 32, 33, 34, 35, 36, 37, 38, 39, 40, 41, 42, 43, 44, 45}\n"
     ]
    }
   ],
   "source": [
    "(reuters_train_data, reuters_train_labels),(reuters_test_data, reuters_test_labels) = reuters.load_data(num_words=10000)\n",
    "\n",
    "print(reuters_train_data.shape)\n",
    "print(reuters_train_labels.shape)\n",
    "print(reuters_train_data[0])\n",
    "print(reuters_train_labels[0])\n",
    "print(set(reuters_train_labels))"
   ]
  },
  {
   "cell_type": "markdown",
   "metadata": {},
   "source": [
    "Load the word index to decode the train data."
   ]
  },
  {
   "cell_type": "code",
   "execution_count": 4,
   "metadata": {},
   "outputs": [
    {
     "name": "stdout",
     "output_type": "stream",
     "text": [
      "<START> <UNKNOWN> <UNKNOWN> said as a result of its december acquisition of space co it expects earnings per share in 1987 of 1 15 to 1 30 dlrs per share up from 70 cts in 1986 the company said pretax net should rise to nine to 10 mln dlrs from six mln dlrs in 1986 and rental operation revenues to 19 to 22 mln dlrs from 12 5 mln dlrs it said cash flow per share this year should be 2 50 to three dlrs reuter 3\n"
     ]
    }
   ],
   "source": [
    "word_index = reuters.get_word_index()\n",
    "\n",
    "reverse_index = dict([(value+3, key) for (key, value) in word_index.items()])\n",
    "\n",
    "reverse_index[0] = \"<PAD>\"\n",
    "reverse_index[1] = \"<START>\"\n",
    "reverse_index[2] = \"<UNKNOWN>\"  # unknown\n",
    "reverse_index[3] = \"<UNUSED>\"\n",
    "\n",
    "decoded_review = ' '.join([reverse_index.get(i,'?') for i in reuters_train_data[0]])\n",
    "\n",
    "print(decoded_review)"
   ]
  },
  {
   "cell_type": "markdown",
   "metadata": {},
   "source": [
    "#### TO DO: Preprocess the data\n",
    "\n",
    "1. Normalize the input data set\n",
    "2. Perform one hot encoding\n",
    "3. Create a train, test, and validation set"
   ]
  },
  {
   "cell_type": "code",
   "execution_count": 5,
   "metadata": {
    "scrolled": true
   },
   "outputs": [
    {
     "name": "stdout",
     "output_type": "stream",
     "text": [
      "(8982, 8982)\n",
      "(2246, 8982)\n",
      "(8982, 46)\n",
      "(2246, 46)\n",
      "(3000, 8982)\n",
      "(3000, 46)\n",
      "x: (5982, 8982)\n",
      "y: (5982, 46)\n"
     ]
    }
   ],
   "source": [
    "tokenizer = Tokenizer(reuters_train_data.shape[0])\n",
    "reuters_train_data_token = tokenizer.sequences_to_matrix(reuters_train_data, mode='binary')\n",
    "reuters_test_data_token = tokenizer.sequences_to_matrix(reuters_test_data, mode='binary')\n",
    "print(reuters_train_data_token.shape)\n",
    "print(reuters_test_data_token.shape)\n",
    "\n",
    "# One-hot encoding the output\n",
    "reuters_one_hot_train_labels = to_categorical(reuters_train_labels)\n",
    "reuters_one_hot_test_labels = to_categorical(reuters_test_labels)\n",
    "print(reuters_one_hot_train_labels.shape)\n",
    "print(reuters_one_hot_test_labels.shape)\n",
    "\n",
    "# Creating a validation set with the first 10000 reviews\n",
    "reuters_validation_data = reuters_train_data_token[:3000]\n",
    "reuters_validation_labels = reuters_one_hot_train_labels[:3000]\n",
    "print(reuters_validation_data.shape)\n",
    "print(reuters_validation_labels.shape)\n",
    "# Creating the input set for the \n",
    "x_data = reuters_train_data_token[3000:]\n",
    "y_data = reuters_one_hot_train_labels[3000:]\n",
    "print(\"x:\",x_data.shape)\n",
    "print(\"y:\",y_data.shape)"
   ]
  },
  {
   "cell_type": "code",
   "execution_count": 6,
   "metadata": {
    "scrolled": true
   },
   "outputs": [
    {
     "name": "stdout",
     "output_type": "stream",
     "text": [
      "_________________________________________________________________\n",
      "Layer (type)                 Output Shape              Param #   \n",
      "=================================================================\n",
      "dense_1 (Dense)              (None, 256)               2299648   \n",
      "_________________________________________________________________\n",
      "dropout_1 (Dropout)          (None, 256)               0         \n",
      "_________________________________________________________________\n",
      "dense_2 (Dense)              (None, 46)                11822     \n",
      "=================================================================\n",
      "Total params: 2,311,470\n",
      "Trainable params: 2,311,470\n",
      "Non-trainable params: 0\n",
      "_________________________________________________________________\n"
     ]
    }
   ],
   "source": [
    "#building keras model\n",
    "model1 = models.Sequential()\n",
    "model1.add(layers.Dense(256, activation='relu', input_dim=len(reuters_train_data)))\n",
    "model1.add(layers.Dropout(0.5))\n",
    "# model1.add(layers.Dropout(0.3))\n",
    "model1.add(layers.Dense(len(reuters_one_hot_test_labels[0]), activation='softmax'))\n",
    "model1.summary()\n",
    "\n",
    "# included the early stopping which monitors the validation loss\n",
    "early_stop = callbacks.EarlyStopping(monitor='val_loss', patience=8)\n",
    "model1.compile(loss='categorical_hinge', \n",
    "              optimizer='adadelta',\n",
    "              metrics=['accuracy'])"
   ]
  },
  {
   "cell_type": "code",
   "execution_count": 7,
   "metadata": {},
   "outputs": [
    {
     "name": "stdout",
     "output_type": "stream",
     "text": [
      "Train on 5982 samples, validate on 3000 samples\n",
      "Epoch 1/50\n",
      " - 3s - loss: 1.0027 - acc: 0.3009 - val_loss: 0.9933 - val_acc: 0.4930\n",
      "Epoch 2/50\n",
      " - 3s - loss: 0.8711 - acc: 0.4689 - val_loss: 0.7503 - val_acc: 0.5180\n",
      "Epoch 3/50\n",
      " - 3s - loss: 0.6960 - acc: 0.5401 - val_loss: 0.6380 - val_acc: 0.5770\n",
      "Epoch 4/50\n",
      " - 3s - loss: 0.5893 - acc: 0.5834 - val_loss: 0.5755 - val_acc: 0.6307\n",
      "Epoch 5/50\n",
      " - 3s - loss: 0.5547 - acc: 0.6133 - val_loss: 0.5611 - val_acc: 0.6593\n",
      "Epoch 6/50\n",
      " - 3s - loss: 0.5399 - acc: 0.6456 - val_loss: 0.5531 - val_acc: 0.6657\n",
      "Epoch 7/50\n",
      " - 2s - loss: 0.5283 - acc: 0.6603 - val_loss: 0.5491 - val_acc: 0.6780\n",
      "Epoch 8/50\n",
      " - 2s - loss: 0.5190 - acc: 0.6854 - val_loss: 0.5431 - val_acc: 0.6870\n",
      "Epoch 9/50\n",
      " - 2s - loss: 0.5104 - acc: 0.6954 - val_loss: 0.5345 - val_acc: 0.6967\n",
      "Epoch 10/50\n",
      " - 2s - loss: 0.4962 - acc: 0.7098 - val_loss: 0.5242 - val_acc: 0.6963\n",
      "Epoch 11/50\n",
      " - 2s - loss: 0.4735 - acc: 0.7150 - val_loss: 0.5063 - val_acc: 0.6960\n",
      "Epoch 12/50\n",
      " - 3s - loss: 0.4532 - acc: 0.7245 - val_loss: 0.4900 - val_acc: 0.7043\n",
      "Epoch 13/50\n",
      " - 2s - loss: 0.4314 - acc: 0.7379 - val_loss: 0.4811 - val_acc: 0.7183\n",
      "Epoch 14/50\n",
      " - 2s - loss: 0.4175 - acc: 0.7441 - val_loss: 0.4720 - val_acc: 0.7200\n",
      "Epoch 15/50\n",
      " - 2s - loss: 0.4000 - acc: 0.7546 - val_loss: 0.4666 - val_acc: 0.7270\n",
      "Epoch 16/50\n",
      " - 2s - loss: 0.3871 - acc: 0.7646 - val_loss: 0.4596 - val_acc: 0.7333\n",
      "Epoch 17/50\n",
      " - 2s - loss: 0.3763 - acc: 0.7753 - val_loss: 0.4561 - val_acc: 0.7343\n",
      "Epoch 18/50\n",
      " - 2s - loss: 0.3657 - acc: 0.7823 - val_loss: 0.4540 - val_acc: 0.7383\n",
      "Epoch 19/50\n",
      " - 2s - loss: 0.3546 - acc: 0.7909 - val_loss: 0.4488 - val_acc: 0.7443\n",
      "Epoch 20/50\n",
      " - 2s - loss: 0.3450 - acc: 0.7991 - val_loss: 0.4450 - val_acc: 0.7450\n",
      "Epoch 21/50\n",
      " - 2s - loss: 0.3354 - acc: 0.8061 - val_loss: 0.4407 - val_acc: 0.7503\n",
      "Epoch 22/50\n",
      " - 3s - loss: 0.3269 - acc: 0.8104 - val_loss: 0.4363 - val_acc: 0.7573\n",
      "Epoch 23/50\n",
      " - 2s - loss: 0.3177 - acc: 0.8183 - val_loss: 0.4318 - val_acc: 0.7603\n",
      "Epoch 24/50\n",
      " - 2s - loss: 0.3098 - acc: 0.8206 - val_loss: 0.4293 - val_acc: 0.7590\n",
      "Epoch 25/50\n",
      " - 2s - loss: 0.3005 - acc: 0.8255 - val_loss: 0.4270 - val_acc: 0.7653\n",
      "Epoch 26/50\n",
      " - 2s - loss: 0.2925 - acc: 0.8290 - val_loss: 0.4233 - val_acc: 0.7673\n",
      "Epoch 27/50\n",
      " - 3s - loss: 0.2850 - acc: 0.8307 - val_loss: 0.4198 - val_acc: 0.7677\n",
      "Epoch 28/50\n",
      " - 2s - loss: 0.2796 - acc: 0.8368 - val_loss: 0.4203 - val_acc: 0.7683\n",
      "Epoch 29/50\n",
      " - 2s - loss: 0.2741 - acc: 0.8372 - val_loss: 0.4157 - val_acc: 0.7700\n",
      "Epoch 30/50\n",
      " - 2s - loss: 0.2679 - acc: 0.8397 - val_loss: 0.4153 - val_acc: 0.7713\n",
      "Epoch 31/50\n",
      " - 2s - loss: 0.2615 - acc: 0.8432 - val_loss: 0.4110 - val_acc: 0.7747\n",
      "Epoch 32/50\n",
      " - 3s - loss: 0.2554 - acc: 0.8460 - val_loss: 0.4105 - val_acc: 0.7780\n",
      "Epoch 33/50\n",
      " - 2s - loss: 0.2517 - acc: 0.8482 - val_loss: 0.4077 - val_acc: 0.7780\n",
      "Epoch 34/50\n",
      " - 3s - loss: 0.2489 - acc: 0.8501 - val_loss: 0.4063 - val_acc: 0.7793\n",
      "Epoch 35/50\n",
      " - 2s - loss: 0.2415 - acc: 0.8526 - val_loss: 0.4032 - val_acc: 0.7823\n",
      "Epoch 36/50\n",
      " - 2s - loss: 0.2373 - acc: 0.8547 - val_loss: 0.4041 - val_acc: 0.7797\n",
      "Epoch 37/50\n",
      " - 3s - loss: 0.2341 - acc: 0.8571 - val_loss: 0.4054 - val_acc: 0.7800\n",
      "Epoch 38/50\n",
      " - 2s - loss: 0.2315 - acc: 0.8587 - val_loss: 0.4046 - val_acc: 0.7807\n",
      "Epoch 39/50\n",
      " - 2s - loss: 0.2283 - acc: 0.8616 - val_loss: 0.4007 - val_acc: 0.7833\n",
      "Epoch 40/50\n",
      " - 2s - loss: 0.2247 - acc: 0.8639 - val_loss: 0.3988 - val_acc: 0.7837\n",
      "Epoch 41/50\n",
      " - 2s - loss: 0.2206 - acc: 0.8641 - val_loss: 0.4006 - val_acc: 0.7837\n",
      "Epoch 42/50\n",
      " - 3s - loss: 0.2178 - acc: 0.8699 - val_loss: 0.3962 - val_acc: 0.7863\n",
      "Epoch 43/50\n",
      " - 2s - loss: 0.2163 - acc: 0.8701 - val_loss: 0.3959 - val_acc: 0.7873\n",
      "Epoch 44/50\n",
      " - 2s - loss: 0.2128 - acc: 0.8719 - val_loss: 0.3997 - val_acc: 0.7863\n",
      "Epoch 45/50\n",
      " - 2s - loss: 0.2111 - acc: 0.8723 - val_loss: 0.3931 - val_acc: 0.7880\n",
      "Epoch 46/50\n",
      " - 2s - loss: 0.2078 - acc: 0.8801 - val_loss: 0.3941 - val_acc: 0.7910\n",
      "Epoch 47/50\n",
      " - 2s - loss: 0.2050 - acc: 0.8801 - val_loss: 0.3935 - val_acc: 0.7890\n",
      "Epoch 48/50\n",
      " - 2s - loss: 0.2028 - acc: 0.8828 - val_loss: 0.3912 - val_acc: 0.7910\n",
      "Epoch 49/50\n",
      " - 2s - loss: 0.1995 - acc: 0.8838 - val_loss: 0.3939 - val_acc: 0.7927\n",
      "Epoch 50/50\n",
      " - 2s - loss: 0.1982 - acc: 0.8858 - val_loss: 0.3910 - val_acc: 0.7943\n"
     ]
    }
   ],
   "source": [
    "history = model1.fit(x_data, y_data,\n",
    "          batch_size=256,\n",
    "          epochs=50,\n",
    "          validation_data=(reuters_validation_data, reuters_validation_labels),\n",
    "          callbacks=[early_stop],\n",
    "          verbose=2)"
   ]
  },
  {
   "cell_type": "code",
   "execution_count": 8,
   "metadata": {},
   "outputs": [
    {
     "name": "stdout",
     "output_type": "stream",
     "text": [
      "(2246,)\n",
      "(2246, 46)\n",
      "2246/2246 [==============================] - 0s 185us/step\n",
      "[0.39702498440432527, 0.7800534283700843]\n",
      "dict_keys(['val_loss', 'val_acc', 'loss', 'acc'])\n"
     ]
    },
    {
     "data": {
      "image/png": "[encoded data removed]",
      "text/plain": [
       "<Figure size 432x288 with 1 Axes>"
      ]
     },
     "metadata": {
      "needs_background": "light"
     },
     "output_type": "display_data"
    }
   ],
   "source": [
    "#evaluating the model with the test data\n",
    "print(reuters_test_data.shape)\n",
    "print(reuters_one_hot_test_labels.shape)\n",
    "results = model1.evaluate(reuters_test_data_token, reuters_one_hot_test_labels)\n",
    "print(results)\n",
    "\n",
    "history_dict = history.history\n",
    "print(history_dict.keys())\n",
    "\n",
    "#creating list variables for plotting validation\n",
    "acc = history_dict['acc']\n",
    "val_acc = history_dict['val_acc']\n",
    "loss = history_dict['loss']\n",
    "val_loss = history_dict['val_loss']\n",
    "epochs = range(1, len(acc) + 1)\n",
    "\n",
    "\n",
    "\n",
    "#plotting validation and training loss\n",
    "\n",
    "plt.plot(epochs, loss, 'r', label='Training loss')\n",
    "plt.plot(epochs, val_loss, 'b', label='Validation loss')\n",
    "plt.title('Training and validation loss')\n",
    "plt.xlabel('Epochs')\n",
    "plt.ylabel('Loss')\n",
    "plt.legend()\n",
    "\n",
    "plt.show()"
   ]
  },
  {
   "cell_type": "code",
   "execution_count": 9,
   "metadata": {},
   "outputs": [
    {
     "data": {
      "image/png": "[encoded data removed]",
      "text/plain": [
       "<Figure size 432x288 with 1 Axes>"
      ]
     },
     "metadata": {
      "needs_background": "light"
     },
     "output_type": "display_data"
    }
   ],
   "source": [
    "#plotting validation and train accuracy\n",
    "\n",
    "plt.clf()\n",
    "\n",
    "plt.plot(epochs, acc, 'r', label='Training acc')\n",
    "plt.plot(epochs, val_acc, 'b', label='Validation acc')\n",
    "plt.title('Training and validation accuracy')\n",
    "plt.xlabel('Epochs')\n",
    "plt.ylabel('Accuracy')\n",
    "plt.legend()\n",
    "\n",
    "plt.show()"
   ]
  },
  {
   "cell_type": "markdown",
   "metadata": {},
   "source": [
    "#### TO DO: Define and train a network, then plot the accuracy of the training, validation, and testing\n",
    "\n",
    "1. Use a validation set\n",
    "2. Propose and train a network\n",
    "3. Print the history of the training\n",
    "4. Evaluate with a test set"
   ]
  },
  {
   "cell_type": "markdown",
   "metadata": {},
   "source": [
    "## Predicting Student Admissions\n",
    "\n",
    "---\n",
    "\n",
    "Predict student admissions based on three pieces of data:\n",
    "\n",
    "- GRE Scores\n",
    "- GPA Scores\n",
    "- Class rank"
   ]
  },
  {
   "cell_type": "markdown",
   "metadata": {},
   "source": [
    "### Load and visualize the data"
   ]
  },
  {
   "cell_type": "code",
   "execution_count": 2,
   "metadata": {},
   "outputs": [
    {
     "name": "stdout",
     "output_type": "stream",
     "text": [
      "     admit    gre   gpa  rank\n",
      "0        0  380.0  3.61   3.0\n",
      "1        1  660.0  3.67   3.0\n",
      "2        1  800.0  4.00   1.0\n",
      "3        1  640.0  3.19   4.0\n",
      "4        0  520.0  2.93   4.0\n",
      "5        1  760.0  3.00   2.0\n",
      "6        1  560.0  2.98   1.0\n",
      "7        0  400.0  3.08   2.0\n",
      "8        1  540.0  3.39   3.0\n",
      "9        0  700.0  3.92   2.0\n",
      "10       0  800.0  4.00   4.0\n",
      "11       0  440.0  3.22   1.0\n",
      "12       1  760.0  4.00   1.0\n",
      "13       0  700.0  3.08   2.0\n",
      "14       1  700.0  4.00   1.0\n",
      "15       0  480.0  3.44   3.0\n",
      "16       0  780.0  3.87   4.0\n",
      "17       0  360.0  2.56   3.0\n",
      "18       0  800.0  3.75   2.0\n",
      "19       1  540.0  3.81   1.0\n",
      "20       0  500.0  3.17   3.0\n",
      "21       1  660.0  3.63   2.0\n",
      "22       0  600.0  2.82   4.0\n",
      "23       0  680.0  3.19   4.0\n",
      "24       1  760.0  3.35   2.0\n",
      "25       1  800.0  3.66   1.0\n",
      "26       1  620.0  3.61   1.0\n",
      "27       1  520.0  3.74   4.0\n",
      "28       1  780.0  3.22   2.0\n",
      "29       0  520.0  3.29   1.0\n",
      "..     ...    ...   ...   ...\n",
      "370      1  540.0  3.77   2.0\n",
      "371      1  680.0  3.76   3.0\n",
      "372      1  680.0  2.42   1.0\n",
      "373      1  620.0  3.37   1.0\n",
      "374      0  560.0  3.78   2.0\n",
      "375      0  560.0  3.49   4.0\n",
      "376      0  620.0  3.63   2.0\n",
      "377      1  800.0  4.00   2.0\n",
      "378      0  640.0  3.12   3.0\n",
      "379      0  540.0  2.70   2.0\n",
      "380      0  700.0  3.65   2.0\n",
      "381      1  540.0  3.49   2.0\n",
      "382      0  540.0  3.51   2.0\n",
      "383      0  660.0  4.00   1.0\n",
      "384      1  480.0  2.62   2.0\n",
      "385      0  420.0  3.02   1.0\n",
      "386      1  740.0  3.86   2.0\n",
      "387      0  580.0  3.36   2.0\n",
      "388      0  640.0  3.17   2.0\n",
      "389      0  640.0  3.51   2.0\n",
      "390      1  800.0  3.05   2.0\n",
      "391      1  660.0  3.88   2.0\n",
      "392      1  600.0  3.38   3.0\n",
      "393      1  620.0  3.75   2.0\n",
      "394      1  460.0  3.99   3.0\n",
      "395      0  620.0  4.00   2.0\n",
      "396      0  560.0  3.04   3.0\n",
      "397      0  460.0  2.63   2.0\n",
      "398      0  700.0  3.65   2.0\n",
      "399      0  600.0  3.89   3.0\n",
      "\n",
      "[400 rows x 4 columns]\n"
     ]
    }
   ],
   "source": [
    "student_data = pd.read_csv(\"student_data.csv\")\n",
    "print(student_data)"
   ]
  },
  {
   "cell_type": "markdown",
   "metadata": {},
   "source": [
    "Plot of the GRE and the GPA from the data."
   ]
  },
  {
   "cell_type": "code",
   "execution_count": 3,
   "metadata": {},
   "outputs": [
    {
     "data": {
      "image/png": "[encoded data removed]",
      "text/plain": [
       "<Figure size 432x288 with 1 Axes>"
      ]
     },
     "metadata": {
      "needs_background": "light"
     },
     "output_type": "display_data"
    }
   ],
   "source": [
    "X = np.array(student_data[[\"gre\",\"gpa\"]])\n",
    "y = np.array(student_data[\"admit\"])\n",
    "admitted = X[np.argwhere(y==1)]\n",
    "rejected = X[np.argwhere(y==0)]\n",
    "plt.scatter([s[0][0] for s in rejected], [s[0][1] for s in rejected], s = 25, color = 'red', edgecolor = 'k')\n",
    "plt.scatter([s[0][0] for s in admitted], [s[0][1] for s in admitted], s = 25, color = 'cyan', edgecolor = 'k')\n",
    "plt.xlabel('Test (GRE)')\n",
    "plt.ylabel('Grades (GPA)')\n",
    "\n",
    "plt.show()"
   ]
  },
  {
   "cell_type": "markdown",
   "metadata": {},
   "source": [
    "Plot of the data by class rank."
   ]
  },
  {
   "cell_type": "code",
   "execution_count": 4,
   "metadata": {},
   "outputs": [
    {
     "data": {
      "image/png": "[encoded data removed]",
      "text/plain": [
       "<Figure size 1440x720 with 4 Axes>"
      ]
     },
     "metadata": {
      "needs_background": "light"
     },
     "output_type": "display_data"
    }
   ],
   "source": [
    "f, plots = plt.subplots(2, 2, figsize=(20,10))\n",
    "plots = [plot for sublist in plots for plot in sublist]\n",
    "\n",
    "for idx, plot in enumerate(plots):\n",
    "    data_rank = student_data[student_data[\"rank\"]==idx+1]\n",
    "    plot.set_title(\"Rank \" + str(idx+1))\n",
    "    X = np.array(data_rank[[\"gre\",\"gpa\"]])\n",
    "    y = np.array(data_rank[\"admit\"])\n",
    "    admitted = X[np.argwhere(y==1)]\n",
    "    rejected = X[np.argwhere(y==0)]\n",
    "    plot.scatter([s[0][0] for s in rejected], [s[0][1] for s in rejected], s = 25, color = 'red', edgecolor = 'k')\n",
    "    plot.scatter([s[0][0] for s in admitted], [s[0][1] for s in admitted], s = 25, color = 'cyan', edgecolor = 'k')\n",
    "    plot.set_xlabel('Test (GRE)')\n",
    "    plot.set_ylabel('Grades (GPA)')\n",
    "    "
   ]
  },
  {
   "cell_type": "markdown",
   "metadata": {},
   "source": [
    "#### TO DO: Preprocess the data\n",
    "\n",
    "1. Normalize the input data set\n",
    "2. Perform one hot encoding\n",
    "3. Create a train, test, and validation set"
   ]
  },
  {
   "cell_type": "code",
   "execution_count": 5,
   "metadata": {},
   "outputs": [
    {
     "name": "stdout",
     "output_type": "stream",
     "text": [
      "(400, 7)\n",
      "(400, 2)\n"
     ]
    }
   ],
   "source": [
    "# admit    gre   gpa  rank\n",
    "student_data.fillna(value= 0, inplace= True)\n",
    "gpa = np.array(student_data[\"gpa\"])\n",
    "gpa = (gpa - np.nanmean(gpa))/np.nanstd(gpa)\n",
    "gre = np.array(student_data[\"gre\"])\n",
    "gre = (gre - np.nanmean(gre))/np.nanstd(gre)\n",
    "rank = np.array(student_data[\"rank\"])\n",
    "rank = to_categorical(rank)\n",
    "standarizedStudentData = np.zeros((len(gre), 2))\n",
    "standarizedStudentData[:,0] = gre\n",
    "standarizedStudentData[:,1] = gpa\n",
    "studentDataFinal = np.zeros((len(gre), 7))\n",
    "for i, (studentData, cat) in enumerate(zip(standarizedStudentData, rank)):\n",
    "    studentDataFinal[i] = np.concatenate((studentData, cat))\n",
    "    \n",
    "    \n",
    "admit = np.array(student_data[\"admit\"])\n",
    "studentOneHotLabels = to_categorical(admit)\n",
    "\n",
    "print(studentDataFinal.shape)\n",
    "print(studentOneHotLabels.shape)\n",
    "\n",
    "studentTrainData = studentDataFinal[:300]\n",
    "studentTrainLabels = studentOneHotLabels[:300]\n",
    "studentTestData = studentDataFinal[300:]\n",
    "studentTestLabels = studentOneHotLabels[300:]"
   ]
  },
  {
   "cell_type": "markdown",
   "metadata": {},
   "source": []
  },
  {
   "cell_type": "code",
   "execution_count": 6,
   "metadata": {},
   "outputs": [
    {
     "name": "stdout",
     "output_type": "stream",
     "text": [
      "_________________________________________________________________\n",
      "Layer (type)                 Output Shape              Param #   \n",
      "=================================================================\n",
      "dense_1 (Dense)              (None, 32)                256       \n",
      "_________________________________________________________________\n",
      "dense_2 (Dense)              (None, 32)                1056      \n",
      "_________________________________________________________________\n",
      "dense_3 (Dense)              (None, 2)                 66        \n",
      "=================================================================\n",
      "Total params: 1,378\n",
      "Trainable params: 1,378\n",
      "Non-trainable params: 0\n",
      "_________________________________________________________________\n"
     ]
    }
   ],
   "source": [
    "#building keras model\n",
    "model2 = models.Sequential()\n",
    "model2.add(layers.Dense(32, activation='relu', input_dim=7))\n",
    "# model1.add(layers.Dropout(0.4))\n",
    "model2.add(layers.Dense(32, activation='relu'))\n",
    "# model1.add(layers.Dropout(0.3))\n",
    "model2.add(layers.Dense(2, activation='sigmoid'))\n",
    "model2.summary()\n",
    "\n",
    "# included the early stopping which monitors the validation loss\n",
    "early_stop = callbacks.EarlyStopping(monitor='val_loss', patience=8)\n",
    "model2.compile(loss='kullback_leibler_divergence', \n",
    "              optimizer='nadam',\n",
    "              metrics=['accuracy'])"
   ]
  },
  {
   "cell_type": "code",
   "execution_count": 7,
   "metadata": {},
   "outputs": [
    {
     "name": "stdout",
     "output_type": "stream",
     "text": [
      "Train on 240 samples, validate on 60 samples\n",
      "Epoch 1/200\n",
      " - 0s - loss: 0.6918 - acc: 0.3958 - val_loss: 0.6550 - val_acc: 0.5833\n",
      "Epoch 2/200\n",
      " - 0s - loss: 0.6635 - acc: 0.4917 - val_loss: 0.6377 - val_acc: 0.6333\n",
      "Epoch 3/200\n",
      " - 0s - loss: 0.6432 - acc: 0.5625 - val_loss: 0.6217 - val_acc: 0.6667\n",
      "Epoch 4/200\n",
      " - 0s - loss: 0.6244 - acc: 0.6208 - val_loss: 0.6058 - val_acc: 0.7167\n",
      "Epoch 5/200\n",
      " - 0s - loss: 0.6059 - acc: 0.6542 - val_loss: 0.5900 - val_acc: 0.7000\n",
      "Epoch 6/200\n",
      " - 0s - loss: 0.5873 - acc: 0.6792 - val_loss: 0.5739 - val_acc: 0.6500\n",
      "Epoch 7/200\n",
      " - 0s - loss: 0.5686 - acc: 0.7000 - val_loss: 0.5575 - val_acc: 0.6500\n",
      "Epoch 8/200\n",
      " - 0s - loss: 0.5497 - acc: 0.7000 - val_loss: 0.5408 - val_acc: 0.6500\n",
      "Epoch 9/200\n",
      " - 0s - loss: 0.5303 - acc: 0.7000 - val_loss: 0.5239 - val_acc: 0.6500\n",
      "Epoch 10/200\n",
      " - 0s - loss: 0.5107 - acc: 0.7000 - val_loss: 0.5068 - val_acc: 0.6333\n",
      "Epoch 11/200\n",
      " - 0s - loss: 0.4910 - acc: 0.7083 - val_loss: 0.4888 - val_acc: 0.6333\n",
      "Epoch 12/200\n",
      " - 0s - loss: 0.4702 - acc: 0.7083 - val_loss: 0.4705 - val_acc: 0.6333\n",
      "Epoch 13/200\n",
      " - 0s - loss: 0.4497 - acc: 0.7083 - val_loss: 0.4530 - val_acc: 0.6333\n",
      "Epoch 14/200\n",
      " - 0s - loss: 0.4304 - acc: 0.7083 - val_loss: 0.4355 - val_acc: 0.6333\n",
      "Epoch 15/200\n",
      " - 0s - loss: 0.4110 - acc: 0.7083 - val_loss: 0.4178 - val_acc: 0.6333\n",
      "Epoch 16/200\n",
      " - 0s - loss: 0.3916 - acc: 0.7083 - val_loss: 0.3994 - val_acc: 0.6333\n",
      "Epoch 17/200\n",
      " - 0s - loss: 0.3717 - acc: 0.7083 - val_loss: 0.3812 - val_acc: 0.6333\n",
      "Epoch 18/200\n",
      " - 0s - loss: 0.3528 - acc: 0.7083 - val_loss: 0.3629 - val_acc: 0.6333\n",
      "Epoch 19/200\n",
      " - 0s - loss: 0.3339 - acc: 0.7083 - val_loss: 0.3448 - val_acc: 0.6333\n",
      "Epoch 20/200\n",
      " - 0s - loss: 0.3153 - acc: 0.7083 - val_loss: 0.3268 - val_acc: 0.6333\n",
      "Epoch 21/200\n",
      " - 0s - loss: 0.2970 - acc: 0.7083 - val_loss: 0.3088 - val_acc: 0.6333\n",
      "Epoch 22/200\n",
      " - 0s - loss: 0.2790 - acc: 0.7083 - val_loss: 0.2911 - val_acc: 0.6333\n",
      "Epoch 23/200\n",
      " - 0s - loss: 0.2615 - acc: 0.7083 - val_loss: 0.2738 - val_acc: 0.6333\n",
      "Epoch 24/200\n",
      " - 0s - loss: 0.2446 - acc: 0.7083 - val_loss: 0.2572 - val_acc: 0.6333\n",
      "Epoch 25/200\n",
      " - 0s - loss: 0.2285 - acc: 0.7083 - val_loss: 0.2412 - val_acc: 0.6333\n",
      "Epoch 26/200\n",
      " - 0s - loss: 0.2130 - acc: 0.7083 - val_loss: 0.2257 - val_acc: 0.6333\n",
      "Epoch 27/200\n",
      " - 0s - loss: 0.1982 - acc: 0.7083 - val_loss: 0.2107 - val_acc: 0.6333\n",
      "Epoch 28/200\n",
      " - 0s - loss: 0.1840 - acc: 0.7083 - val_loss: 0.1962 - val_acc: 0.6333\n",
      "Epoch 29/200\n",
      " - 0s - loss: 0.1703 - acc: 0.7083 - val_loss: 0.1826 - val_acc: 0.6333\n",
      "Epoch 30/200\n",
      " - 0s - loss: 0.1575 - acc: 0.7083 - val_loss: 0.1697 - val_acc: 0.6333\n",
      "Epoch 31/200\n",
      " - 0s - loss: 0.1455 - acc: 0.7083 - val_loss: 0.1577 - val_acc: 0.6333\n",
      "Epoch 32/200\n",
      " - 0s - loss: 0.1342 - acc: 0.7083 - val_loss: 0.1464 - val_acc: 0.6333\n",
      "Epoch 33/200\n",
      " - 0s - loss: 0.1237 - acc: 0.7083 - val_loss: 0.1358 - val_acc: 0.6333\n",
      "Epoch 34/200\n",
      " - 0s - loss: 0.1140 - acc: 0.7083 - val_loss: 0.1260 - val_acc: 0.6333\n",
      "Epoch 35/200\n",
      " - 0s - loss: 0.1051 - acc: 0.7083 - val_loss: 0.1169 - val_acc: 0.6333\n",
      "Epoch 36/200\n",
      " - 0s - loss: 0.0969 - acc: 0.7083 - val_loss: 0.1085 - val_acc: 0.6333\n",
      "Epoch 37/200\n",
      " - 0s - loss: 0.0894 - acc: 0.7083 - val_loss: 0.1008 - val_acc: 0.6333\n",
      "Epoch 38/200\n",
      " - 0s - loss: 0.0826 - acc: 0.7083 - val_loss: 0.0936 - val_acc: 0.6333\n",
      "Epoch 39/200\n",
      " - 0s - loss: 0.0764 - acc: 0.7083 - val_loss: 0.0870 - val_acc: 0.6333\n",
      "Epoch 40/200\n",
      " - 0s - loss: 0.0706 - acc: 0.7083 - val_loss: 0.0809 - val_acc: 0.6333\n",
      "Epoch 41/200\n",
      " - 0s - loss: 0.0654 - acc: 0.7083 - val_loss: 0.0754 - val_acc: 0.6333\n",
      "Epoch 42/200\n",
      " - 0s - loss: 0.0607 - acc: 0.7083 - val_loss: 0.0703 - val_acc: 0.6333\n",
      "Epoch 43/200\n",
      " - 0s - loss: 0.0563 - acc: 0.7083 - val_loss: 0.0656 - val_acc: 0.6333\n",
      "Epoch 44/200\n",
      " - 0s - loss: 0.0524 - acc: 0.7083 - val_loss: 0.0613 - val_acc: 0.6333\n",
      "Epoch 45/200\n",
      " - 0s - loss: 0.0487 - acc: 0.7083 - val_loss: 0.0573 - val_acc: 0.6333\n",
      "Epoch 46/200\n",
      " - 0s - loss: 0.0454 - acc: 0.7083 - val_loss: 0.0536 - val_acc: 0.6333\n",
      "Epoch 47/200\n",
      " - 0s - loss: 0.0423 - acc: 0.7083 - val_loss: 0.0503 - val_acc: 0.6333\n",
      "Epoch 48/200\n",
      " - 0s - loss: 0.0396 - acc: 0.7083 - val_loss: 0.0472 - val_acc: 0.6333\n",
      "Epoch 49/200\n",
      " - 0s - loss: 0.0370 - acc: 0.7083 - val_loss: 0.0444 - val_acc: 0.6333\n",
      "Epoch 50/200\n",
      " - 0s - loss: 0.0347 - acc: 0.7083 - val_loss: 0.0417 - val_acc: 0.6333\n",
      "Epoch 51/200\n",
      " - 0s - loss: 0.0326 - acc: 0.7083 - val_loss: 0.0393 - val_acc: 0.6333\n",
      "Epoch 52/200\n",
      " - 0s - loss: 0.0306 - acc: 0.7083 - val_loss: 0.0371 - val_acc: 0.6333\n",
      "Epoch 53/200\n",
      " - 0s - loss: 0.0288 - acc: 0.7083 - val_loss: 0.0350 - val_acc: 0.6333\n",
      "Epoch 54/200\n",
      " - 0s - loss: 0.0271 - acc: 0.7083 - val_loss: 0.0331 - val_acc: 0.6333\n",
      "Epoch 55/200\n",
      " - 0s - loss: 0.0256 - acc: 0.7083 - val_loss: 0.0313 - val_acc: 0.6333\n",
      "Epoch 56/200\n",
      " - 0s - loss: 0.0241 - acc: 0.7083 - val_loss: 0.0297 - val_acc: 0.6333\n",
      "Epoch 57/200\n",
      " - 0s - loss: 0.0228 - acc: 0.7083 - val_loss: 0.0282 - val_acc: 0.6333\n",
      "Epoch 58/200\n",
      " - 0s - loss: 0.0216 - acc: 0.7083 - val_loss: 0.0268 - val_acc: 0.6333\n",
      "Epoch 59/200\n",
      " - 0s - loss: 0.0205 - acc: 0.7083 - val_loss: 0.0254 - val_acc: 0.6333\n",
      "Epoch 60/200\n",
      " - 0s - loss: 0.0194 - acc: 0.7083 - val_loss: 0.0242 - val_acc: 0.6333\n",
      "Epoch 61/200\n",
      " - 0s - loss: 0.0185 - acc: 0.7083 - val_loss: 0.0231 - val_acc: 0.6333\n",
      "Epoch 62/200\n",
      " - 0s - loss: 0.0176 - acc: 0.7083 - val_loss: 0.0220 - val_acc: 0.6333\n",
      "Epoch 63/200\n",
      " - 0s - loss: 0.0167 - acc: 0.7083 - val_loss: 0.0210 - val_acc: 0.6333\n",
      "Epoch 64/200\n",
      " - 0s - loss: 0.0159 - acc: 0.7083 - val_loss: 0.0201 - val_acc: 0.6333\n",
      "Epoch 65/200\n",
      " - 0s - loss: 0.0152 - acc: 0.7083 - val_loss: 0.0192 - val_acc: 0.6333\n",
      "Epoch 66/200\n",
      " - 0s - loss: 0.0145 - acc: 0.7083 - val_loss: 0.0184 - val_acc: 0.6333\n",
      "Epoch 67/200\n",
      " - 0s - loss: 0.0139 - acc: 0.7083 - val_loss: 0.0177 - val_acc: 0.6333\n",
      "Epoch 68/200\n",
      " - 0s - loss: 0.0133 - acc: 0.7083 - val_loss: 0.0170 - val_acc: 0.6333\n",
      "Epoch 69/200\n",
      " - 0s - loss: 0.0128 - acc: 0.7083 - val_loss: 0.0163 - val_acc: 0.6333\n",
      "Epoch 70/200\n",
      " - 0s - loss: 0.0122 - acc: 0.7083 - val_loss: 0.0157 - val_acc: 0.6333\n",
      "Epoch 71/200\n",
      " - 0s - loss: 0.0118 - acc: 0.7083 - val_loss: 0.0151 - val_acc: 0.6333\n",
      "Epoch 72/200\n",
      " - 0s - loss: 0.0113 - acc: 0.7083 - val_loss: 0.0145 - val_acc: 0.6333\n",
      "Epoch 73/200\n",
      " - 0s - loss: 0.0109 - acc: 0.7083 - val_loss: 0.0140 - val_acc: 0.6333\n",
      "Epoch 74/200\n",
      " - 0s - loss: 0.0105 - acc: 0.7083 - val_loss: 0.0135 - val_acc: 0.6333\n",
      "Epoch 75/200\n",
      " - 0s - loss: 0.0101 - acc: 0.7083 - val_loss: 0.0130 - val_acc: 0.6333\n",
      "Epoch 76/200\n",
      " - 0s - loss: 0.0097 - acc: 0.7083 - val_loss: 0.0126 - val_acc: 0.6333\n",
      "Epoch 77/200\n",
      " - 0s - loss: 0.0094 - acc: 0.7083 - val_loss: 0.0121 - val_acc: 0.6333\n",
      "Epoch 78/200\n",
      " - 0s - loss: 0.0090 - acc: 0.7083 - val_loss: 0.0117 - val_acc: 0.6333\n",
      "Epoch 79/200\n",
      " - 0s - loss: 0.0087 - acc: 0.7083 - val_loss: 0.0114 - val_acc: 0.6333\n",
      "Epoch 80/200\n",
      " - 0s - loss: 0.0084 - acc: 0.7083 - val_loss: 0.0110 - val_acc: 0.6333\n",
      "Epoch 81/200\n",
      " - 0s - loss: 0.0082 - acc: 0.7083 - val_loss: 0.0107 - val_acc: 0.6333\n",
      "Epoch 82/200\n",
      " - 0s - loss: 0.0079 - acc: 0.7083 - val_loss: 0.0103 - val_acc: 0.6333\n",
      "Epoch 83/200\n",
      " - 0s - loss: 0.0077 - acc: 0.7083 - val_loss: 0.0100 - val_acc: 0.6333\n",
      "Epoch 84/200\n",
      " - 0s - loss: 0.0074 - acc: 0.7083 - val_loss: 0.0097 - val_acc: 0.6333\n",
      "Epoch 85/200\n",
      " - 0s - loss: 0.0072 - acc: 0.7083 - val_loss: 0.0094 - val_acc: 0.6333\n",
      "Epoch 86/200\n",
      " - 0s - loss: 0.0070 - acc: 0.7083 - val_loss: 0.0092 - val_acc: 0.6333\n",
      "Epoch 87/200\n",
      " - 0s - loss: 0.0068 - acc: 0.7083 - val_loss: 0.0089 - val_acc: 0.6333\n",
      "Epoch 88/200\n",
      " - 0s - loss: 0.0066 - acc: 0.7083 - val_loss: 0.0087 - val_acc: 0.6333\n",
      "Epoch 89/200\n",
      " - 0s - loss: 0.0064 - acc: 0.7083 - val_loss: 0.0084 - val_acc: 0.6333\n",
      "Epoch 90/200\n",
      " - 0s - loss: 0.0062 - acc: 0.7083 - val_loss: 0.0082 - val_acc: 0.6333\n",
      "Epoch 91/200\n",
      " - 0s - loss: 0.0060 - acc: 0.7083 - val_loss: 0.0080 - val_acc: 0.6333\n",
      "Epoch 92/200\n",
      " - 0s - loss: 0.0059 - acc: 0.7083 - val_loss: 0.0078 - val_acc: 0.6333\n",
      "Epoch 93/200\n",
      " - 0s - loss: 0.0057 - acc: 0.7083 - val_loss: 0.0076 - val_acc: 0.6333\n",
      "Epoch 94/200\n",
      " - 0s - loss: 0.0056 - acc: 0.7083 - val_loss: 0.0074 - val_acc: 0.6333\n",
      "Epoch 95/200\n",
      " - 0s - loss: 0.0054 - acc: 0.7083 - val_loss: 0.0072 - val_acc: 0.6333\n",
      "Epoch 96/200\n",
      " - 0s - loss: 0.0053 - acc: 0.7083 - val_loss: 0.0070 - val_acc: 0.6333\n"
     ]
    },
    {
     "name": "stdout",
     "output_type": "stream",
     "text": [
      "Epoch 97/200\n",
      " - 0s - loss: 0.0052 - acc: 0.7083 - val_loss: 0.0068 - val_acc: 0.6333\n",
      "Epoch 98/200\n",
      " - 0s - loss: 0.0050 - acc: 0.7083 - val_loss: 0.0067 - val_acc: 0.6333\n",
      "Epoch 99/200\n",
      " - 0s - loss: 0.0049 - acc: 0.7083 - val_loss: 0.0065 - val_acc: 0.6333\n",
      "Epoch 100/200\n",
      " - 0s - loss: 0.0048 - acc: 0.7083 - val_loss: 0.0064 - val_acc: 0.6333\n",
      "Epoch 101/200\n",
      " - 0s - loss: 0.0047 - acc: 0.7083 - val_loss: 0.0062 - val_acc: 0.6333\n",
      "Epoch 102/200\n",
      " - 0s - loss: 0.0046 - acc: 0.7083 - val_loss: 0.0061 - val_acc: 0.6333\n",
      "Epoch 103/200\n",
      " - 0s - loss: 0.0044 - acc: 0.7083 - val_loss: 0.0059 - val_acc: 0.6333\n",
      "Epoch 104/200\n",
      " - 0s - loss: 0.0043 - acc: 0.7083 - val_loss: 0.0058 - val_acc: 0.6333\n",
      "Epoch 105/200\n",
      " - 0s - loss: 0.0042 - acc: 0.7083 - val_loss: 0.0057 - val_acc: 0.6333\n",
      "Epoch 106/200\n",
      " - 0s - loss: 0.0041 - acc: 0.7083 - val_loss: 0.0055 - val_acc: 0.6333\n",
      "Epoch 107/200\n",
      " - 0s - loss: 0.0041 - acc: 0.7083 - val_loss: 0.0054 - val_acc: 0.6333\n",
      "Epoch 108/200\n",
      " - 0s - loss: 0.0040 - acc: 0.7083 - val_loss: 0.0053 - val_acc: 0.6333\n",
      "Epoch 109/200\n",
      " - 0s - loss: 0.0039 - acc: 0.7083 - val_loss: 0.0052 - val_acc: 0.6333\n",
      "Epoch 110/200\n",
      " - 0s - loss: 0.0038 - acc: 0.7083 - val_loss: 0.0051 - val_acc: 0.6333\n",
      "Epoch 111/200\n",
      " - 0s - loss: 0.0037 - acc: 0.7083 - val_loss: 0.0050 - val_acc: 0.6333\n",
      "Epoch 112/200\n",
      " - 0s - loss: 0.0036 - acc: 0.7083 - val_loss: 0.0049 - val_acc: 0.6333\n",
      "Epoch 113/200\n",
      " - 0s - loss: 0.0036 - acc: 0.7083 - val_loss: 0.0048 - val_acc: 0.6333\n",
      "Epoch 114/200\n",
      " - 0s - loss: 0.0035 - acc: 0.7083 - val_loss: 0.0047 - val_acc: 0.6333\n",
      "Epoch 115/200\n",
      " - 0s - loss: 0.0034 - acc: 0.7083 - val_loss: 0.0046 - val_acc: 0.6333\n",
      "Epoch 116/200\n",
      " - 0s - loss: 0.0033 - acc: 0.7083 - val_loss: 0.0045 - val_acc: 0.6333\n",
      "Epoch 117/200\n",
      " - 0s - loss: 0.0033 - acc: 0.7083 - val_loss: 0.0044 - val_acc: 0.6333\n",
      "Epoch 118/200\n",
      " - 0s - loss: 0.0032 - acc: 0.7083 - val_loss: 0.0043 - val_acc: 0.6333\n",
      "Epoch 119/200\n",
      " - 0s - loss: 0.0031 - acc: 0.7083 - val_loss: 0.0043 - val_acc: 0.6333\n",
      "Epoch 120/200\n",
      " - 0s - loss: 0.0031 - acc: 0.7083 - val_loss: 0.0042 - val_acc: 0.6333\n",
      "Epoch 121/200\n",
      " - 0s - loss: 0.0030 - acc: 0.7083 - val_loss: 0.0041 - val_acc: 0.6333\n",
      "Epoch 122/200\n",
      " - 0s - loss: 0.0030 - acc: 0.7083 - val_loss: 0.0040 - val_acc: 0.6333\n",
      "Epoch 123/200\n",
      " - 0s - loss: 0.0029 - acc: 0.7083 - val_loss: 0.0039 - val_acc: 0.6333\n",
      "Epoch 124/200\n",
      " - 0s - loss: 0.0029 - acc: 0.7083 - val_loss: 0.0039 - val_acc: 0.6333\n",
      "Epoch 125/200\n",
      " - 0s - loss: 0.0028 - acc: 0.7083 - val_loss: 0.0038 - val_acc: 0.6333\n",
      "Epoch 126/200\n",
      " - 0s - loss: 0.0028 - acc: 0.7083 - val_loss: 0.0037 - val_acc: 0.6333\n",
      "Epoch 127/200\n",
      " - 0s - loss: 0.0027 - acc: 0.7083 - val_loss: 0.0037 - val_acc: 0.6333\n",
      "Epoch 128/200\n",
      " - 0s - loss: 0.0027 - acc: 0.7083 - val_loss: 0.0036 - val_acc: 0.6333\n",
      "Epoch 129/200\n",
      " - 0s - loss: 0.0026 - acc: 0.7083 - val_loss: 0.0035 - val_acc: 0.6333\n",
      "Epoch 130/200\n",
      " - 0s - loss: 0.0026 - acc: 0.7083 - val_loss: 0.0035 - val_acc: 0.6333\n",
      "Epoch 131/200\n",
      " - 0s - loss: 0.0025 - acc: 0.7083 - val_loss: 0.0034 - val_acc: 0.6333\n",
      "Epoch 132/200\n",
      " - 0s - loss: 0.0025 - acc: 0.7083 - val_loss: 0.0034 - val_acc: 0.6333\n",
      "Epoch 133/200\n",
      " - 0s - loss: 0.0024 - acc: 0.7083 - val_loss: 0.0033 - val_acc: 0.6333\n",
      "Epoch 134/200\n",
      " - 0s - loss: 0.0024 - acc: 0.7083 - val_loss: 0.0033 - val_acc: 0.6333\n",
      "Epoch 135/200\n",
      " - 0s - loss: 0.0024 - acc: 0.7083 - val_loss: 0.0032 - val_acc: 0.6333\n",
      "Epoch 136/200\n",
      " - 0s - loss: 0.0023 - acc: 0.7083 - val_loss: 0.0032 - val_acc: 0.6333\n",
      "Epoch 137/200\n",
      " - 0s - loss: 0.0023 - acc: 0.7083 - val_loss: 0.0031 - val_acc: 0.6333\n",
      "Epoch 138/200\n",
      " - 0s - loss: 0.0022 - acc: 0.7083 - val_loss: 0.0031 - val_acc: 0.6333\n",
      "Epoch 139/200\n",
      " - 0s - loss: 0.0022 - acc: 0.7083 - val_loss: 0.0030 - val_acc: 0.6333\n",
      "Epoch 140/200\n",
      " - 0s - loss: 0.0022 - acc: 0.7083 - val_loss: 0.0030 - val_acc: 0.6333\n",
      "Epoch 141/200\n",
      " - 0s - loss: 0.0021 - acc: 0.7083 - val_loss: 0.0029 - val_acc: 0.6333\n",
      "Epoch 142/200\n",
      " - 0s - loss: 0.0021 - acc: 0.7083 - val_loss: 0.0029 - val_acc: 0.6333\n",
      "Epoch 143/200\n",
      " - 0s - loss: 0.0021 - acc: 0.7083 - val_loss: 0.0028 - val_acc: 0.6333\n",
      "Epoch 144/200\n",
      " - 0s - loss: 0.0020 - acc: 0.7083 - val_loss: 0.0028 - val_acc: 0.6333\n",
      "Epoch 145/200\n",
      " - 0s - loss: 0.0020 - acc: 0.7083 - val_loss: 0.0027 - val_acc: 0.6333\n",
      "Epoch 146/200\n",
      " - 0s - loss: 0.0020 - acc: 0.7083 - val_loss: 0.0027 - val_acc: 0.6333\n",
      "Epoch 147/200\n",
      " - 0s - loss: 0.0019 - acc: 0.7083 - val_loss: 0.0027 - val_acc: 0.6333\n",
      "Epoch 148/200\n",
      " - 0s - loss: 0.0019 - acc: 0.7083 - val_loss: 0.0026 - val_acc: 0.6333\n",
      "Epoch 149/200\n",
      " - 0s - loss: 0.0019 - acc: 0.7083 - val_loss: 0.0026 - val_acc: 0.6333\n",
      "Epoch 150/200\n",
      " - 0s - loss: 0.0019 - acc: 0.7083 - val_loss: 0.0025 - val_acc: 0.6333\n",
      "Epoch 151/200\n",
      " - 0s - loss: 0.0018 - acc: 0.7083 - val_loss: 0.0025 - val_acc: 0.6333\n",
      "Epoch 152/200\n",
      " - 0s - loss: 0.0018 - acc: 0.7083 - val_loss: 0.0025 - val_acc: 0.6333\n",
      "Epoch 153/200\n",
      " - 0s - loss: 0.0018 - acc: 0.7083 - val_loss: 0.0024 - val_acc: 0.6333\n",
      "Epoch 154/200\n",
      " - 0s - loss: 0.0017 - acc: 0.7083 - val_loss: 0.0024 - val_acc: 0.6333\n",
      "Epoch 155/200\n",
      " - 0s - loss: 0.0017 - acc: 0.7083 - val_loss: 0.0024 - val_acc: 0.6333\n",
      "Epoch 156/200\n",
      " - 0s - loss: 0.0017 - acc: 0.7083 - val_loss: 0.0023 - val_acc: 0.6333\n",
      "Epoch 157/200\n",
      " - 0s - loss: 0.0017 - acc: 0.7083 - val_loss: 0.0023 - val_acc: 0.6333\n",
      "Epoch 158/200\n",
      " - 0s - loss: 0.0016 - acc: 0.7083 - val_loss: 0.0023 - val_acc: 0.6333\n",
      "Epoch 159/200\n",
      " - 0s - loss: 0.0016 - acc: 0.7083 - val_loss: 0.0022 - val_acc: 0.6333\n",
      "Epoch 160/200\n",
      " - 0s - loss: 0.0016 - acc: 0.7083 - val_loss: 0.0022 - val_acc: 0.6333\n",
      "Epoch 161/200\n",
      " - 0s - loss: 0.0016 - acc: 0.7083 - val_loss: 0.0022 - val_acc: 0.6333\n",
      "Epoch 162/200\n",
      " - 0s - loss: 0.0016 - acc: 0.7083 - val_loss: 0.0022 - val_acc: 0.6333\n",
      "Epoch 163/200\n",
      " - 0s - loss: 0.0015 - acc: 0.7083 - val_loss: 0.0021 - val_acc: 0.6333\n",
      "Epoch 164/200\n",
      " - 0s - loss: 0.0015 - acc: 0.7083 - val_loss: 0.0021 - val_acc: 0.6333\n",
      "Epoch 165/200\n",
      " - 0s - loss: 0.0015 - acc: 0.7083 - val_loss: 0.0021 - val_acc: 0.6333\n",
      "Epoch 166/200\n",
      " - 0s - loss: 0.0015 - acc: 0.7083 - val_loss: 0.0020 - val_acc: 0.6333\n",
      "Epoch 167/200\n",
      " - 0s - loss: 0.0015 - acc: 0.7083 - val_loss: 0.0020 - val_acc: 0.6333\n",
      "Epoch 168/200\n",
      " - 0s - loss: 0.0014 - acc: 0.7083 - val_loss: 0.0020 - val_acc: 0.6333\n",
      "Epoch 169/200\n",
      " - 0s - loss: 0.0014 - acc: 0.7083 - val_loss: 0.0020 - val_acc: 0.6333\n",
      "Epoch 170/200\n",
      " - 0s - loss: 0.0014 - acc: 0.7083 - val_loss: 0.0019 - val_acc: 0.6333\n",
      "Epoch 171/200\n",
      " - 0s - loss: 0.0014 - acc: 0.7083 - val_loss: 0.0019 - val_acc: 0.6333\n",
      "Epoch 172/200\n",
      " - 0s - loss: 0.0014 - acc: 0.7083 - val_loss: 0.0019 - val_acc: 0.6333\n",
      "Epoch 173/200\n",
      " - 0s - loss: 0.0013 - acc: 0.7083 - val_loss: 0.0019 - val_acc: 0.6333\n",
      "Epoch 174/200\n",
      " - 0s - loss: 0.0013 - acc: 0.7083 - val_loss: 0.0018 - val_acc: 0.6333\n",
      "Epoch 175/200\n",
      " - 0s - loss: 0.0013 - acc: 0.7083 - val_loss: 0.0018 - val_acc: 0.6333\n",
      "Epoch 176/200\n",
      " - 0s - loss: 0.0013 - acc: 0.7083 - val_loss: 0.0018 - val_acc: 0.6333\n",
      "Epoch 177/200\n",
      " - 0s - loss: 0.0013 - acc: 0.7083 - val_loss: 0.0018 - val_acc: 0.6333\n",
      "Epoch 178/200\n",
      " - 0s - loss: 0.0013 - acc: 0.7083 - val_loss: 0.0018 - val_acc: 0.6333\n",
      "Epoch 179/200\n",
      " - 0s - loss: 0.0013 - acc: 0.7083 - val_loss: 0.0017 - val_acc: 0.6333\n",
      "Epoch 180/200\n",
      " - 0s - loss: 0.0012 - acc: 0.7083 - val_loss: 0.0017 - val_acc: 0.6333\n",
      "Epoch 181/200\n",
      " - 0s - loss: 0.0012 - acc: 0.7083 - val_loss: 0.0017 - val_acc: 0.6333\n",
      "Epoch 182/200\n",
      " - 0s - loss: 0.0012 - acc: 0.7083 - val_loss: 0.0017 - val_acc: 0.6333\n",
      "Epoch 183/200\n",
      " - 0s - loss: 0.0012 - acc: 0.7083 - val_loss: 0.0017 - val_acc: 0.6333\n",
      "Epoch 184/200\n",
      " - 0s - loss: 0.0012 - acc: 0.7083 - val_loss: 0.0016 - val_acc: 0.6333\n",
      "Epoch 185/200\n",
      " - 0s - loss: 0.0012 - acc: 0.7083 - val_loss: 0.0016 - val_acc: 0.6333\n",
      "Epoch 186/200\n",
      " - 0s - loss: 0.0012 - acc: 0.7083 - val_loss: 0.0016 - val_acc: 0.6333\n",
      "Epoch 187/200\n",
      " - 0s - loss: 0.0011 - acc: 0.7083 - val_loss: 0.0016 - val_acc: 0.6333\n",
      "Epoch 188/200\n",
      " - 0s - loss: 0.0011 - acc: 0.7083 - val_loss: 0.0016 - val_acc: 0.6333\n",
      "Epoch 189/200\n",
      " - 0s - loss: 0.0011 - acc: 0.7083 - val_loss: 0.0015 - val_acc: 0.6333\n",
      "Epoch 190/200\n",
      " - 0s - loss: 0.0011 - acc: 0.7083 - val_loss: 0.0015 - val_acc: 0.6333\n",
      "Epoch 191/200\n",
      " - 0s - loss: 0.0011 - acc: 0.7083 - val_loss: 0.0015 - val_acc: 0.6333\n",
      "Epoch 192/200\n",
      " - 0s - loss: 0.0011 - acc: 0.7083 - val_loss: 0.0015 - val_acc: 0.6333\n"
     ]
    },
    {
     "name": "stdout",
     "output_type": "stream",
     "text": [
      "Epoch 193/200\n",
      " - 0s - loss: 0.0011 - acc: 0.7083 - val_loss: 0.0015 - val_acc: 0.6333\n",
      "Epoch 194/200\n",
      " - 0s - loss: 0.0010 - acc: 0.7083 - val_loss: 0.0015 - val_acc: 0.6333\n",
      "Epoch 195/200\n",
      " - 0s - loss: 0.0010 - acc: 0.7083 - val_loss: 0.0014 - val_acc: 0.6333\n",
      "Epoch 196/200\n",
      " - 0s - loss: 0.0010 - acc: 0.7083 - val_loss: 0.0014 - val_acc: 0.6333\n",
      "Epoch 197/200\n",
      " - 0s - loss: 0.0010 - acc: 0.7083 - val_loss: 0.0014 - val_acc: 0.6333\n",
      "Epoch 198/200\n",
      " - 0s - loss: 0.0010 - acc: 0.7083 - val_loss: 0.0014 - val_acc: 0.6333\n",
      "Epoch 199/200\n",
      " - 0s - loss: 9.9298e-04 - acc: 0.7083 - val_loss: 0.0014 - val_acc: 0.6333\n",
      "Epoch 200/200\n",
      " - 0s - loss: 9.8224e-04 - acc: 0.7083 - val_loss: 0.0014 - val_acc: 0.6333\n"
     ]
    }
   ],
   "source": [
    "history = model2.fit(studentTrainData, studentTrainLabels,\n",
    "          batch_size=512,\n",
    "          epochs=200,\n",
    "          validation_split=0.2, \n",
    "          verbose=2)"
   ]
  },
  {
   "cell_type": "code",
   "execution_count": 8,
   "metadata": {},
   "outputs": [
    {
     "name": "stdout",
     "output_type": "stream",
     "text": [
      "(100, 7)\n",
      "(100, 2)\n",
      "100/100 [==============================] - 0s 41us/step\n",
      "[0.0012386897555552424, 0.65]\n",
      "dict_keys(['val_loss', 'val_acc', 'loss', 'acc'])\n"
     ]
    },
    {
     "data": {
      "image/png": "[encoded data removed]",
      "text/plain": [
       "<Figure size 432x288 with 1 Axes>"
      ]
     },
     "metadata": {
      "needs_background": "light"
     },
     "output_type": "display_data"
    }
   ],
   "source": [
    "#evaluating the model with the test data\n",
    "print(studentTestData.shape)\n",
    "print(studentTestLabels.shape)\n",
    "results = model2.evaluate(studentTestData, studentTestLabels)\n",
    "print(results)\n",
    "\n",
    "history_dict = history.history\n",
    "print(history_dict.keys())\n",
    "\n",
    "#creating list variables for plotting validation\n",
    "acc = history_dict['acc']\n",
    "val_acc = history_dict['val_acc']\n",
    "loss = history_dict['loss']\n",
    "val_loss = history_dict['val_loss']\n",
    "epochs = range(1, len(acc) + 1)\n",
    "\n",
    "\n",
    "\n",
    "#plotting validation and training loss\n",
    "\n",
    "plt.plot(epochs, loss, 'r', label='Training loss')\n",
    "plt.plot(epochs, val_loss, 'b', label='Validation loss')\n",
    "plt.title('Training and validation loss')\n",
    "plt.xlabel('Epochs')\n",
    "plt.ylabel('Loss')\n",
    "plt.legend()\n",
    "\n",
    "plt.show()"
   ]
  },
  {
   "cell_type": "code",
   "execution_count": 9,
   "metadata": {},
   "outputs": [
    {
     "data": {
      "image/png": "[encoded data removed]",
      "text/plain": [
       "<Figure size 432x288 with 1 Axes>"
      ]
     },
     "metadata": {
      "needs_background": "light"
     },
     "output_type": "display_data"
    }
   ],
   "source": [
    "#plotting validation and train accuracy\n",
    "\n",
    "plt.clf()\n",
    "\n",
    "plt.plot(epochs, acc, 'r', label='Training acc')\n",
    "plt.plot(epochs, val_acc, 'b', label='Validation acc')\n",
    "plt.title('Training and validation accuracy')\n",
    "plt.xlabel('Epochs')\n",
    "plt.ylabel('Accuracy')\n",
    "plt.legend()\n",
    "\n",
    "plt.show()"
   ]
  },
  {
   "cell_type": "markdown",
   "metadata": {},
   "source": [
    "#### TO DO: Define and train a network, then plot the accuracy of the training, validation, and testing\n",
    "\n",
    "1. Use a validation set\n",
    "2. Propose and train a network\n",
    "3. Print the history of the training\n",
    "4. Evaluate with a test set"
   ]
  }
 ],
 "metadata": {
  "kernelspec": {
   "display_name": "Python 3",
   "language": "python",
   "name": "python3"
  },
  "language_info": {
   "codemirror_mode": {
    "name": "ipython",
    "version": 3
   },
   "file_extension": ".py",
   "mimetype": "text/x-python",
   "name": "python",
   "nbconvert_exporter": "python",
   "pygments_lexer": "ipython3",
   "version": "3.6.8"
  }
 },
 "nbformat": 4,
 "nbformat_minor": 2
}
