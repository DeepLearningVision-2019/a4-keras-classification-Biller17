{
 "cells": [
  {
   "cell_type": "markdown",
   "metadata": {},
   "source": [
    "# Classify different data sets"
   ]
  },
  {
   "cell_type": "markdown",
   "metadata": {},
   "source": [
    "### Basic includes"
   ]
  },
  {
   "cell_type": "code",
   "execution_count": 1,
   "metadata": {},
   "outputs": [
    {
     "name": "stderr",
     "output_type": "stream",
     "text": [
      "Using TensorFlow backend.\n"
     ]
    }
   ],
   "source": [
    "# Using pandas to load the csv file\n",
    "import pandas as pd\n",
    "\n",
    "import numpy as np\n",
    "import matplotlib.pyplot as plt\n",
    "\n",
    "from keras import models \n",
    "from keras import layers \n",
    "from keras import callbacks\n",
    "from keras.utils import to_categorical\n",
    "\n",
    "# reuters and fashin mnist data set from keras\n",
    "from keras.datasets import reuters\n",
    "from keras.datasets import fashion_mnist\n",
    "\n",
    "# needed to preprocess text\n",
    "from keras.preprocessing.text import Tokenizer"
   ]
  },
  {
   "cell_type": "markdown",
   "metadata": {},
   "source": [
    "### Classify the Fashion Mnist\n",
    "\n",
    "---"
   ]
  },
  {
   "cell_type": "code",
   "execution_count": 2,
   "metadata": {},
   "outputs": [
    {
     "name": "stdout",
     "output_type": "stream",
     "text": [
      "(60000, 28, 28)\n",
      "(10000, 28, 28)\n"
     ]
    },
    {
     "data": {
      "text/plain": [
       "<matplotlib.image.AxesImage at 0x133212550>"
      ]
     },
     "execution_count": 2,
     "metadata": {},
     "output_type": "execute_result"
    },
    {
     "data": {
      "image/png": "[encoded data removed]",
      "text/plain": [
       "<Figure size 432x288 with 1 Axes>"
      ]
     },
     "metadata": {
      "needs_background": "light"
     },
     "output_type": "display_data"
    }
   ],
   "source": [
    "(fashion_train_data, fashion_train_labels), (fashion_test_data, fashion_test_labels) = fashion_mnist.load_data()\n",
    "\n",
    "print(fashion_train_data.shape)\n",
    "print(fashion_test_data.shape)\n",
    "test_index = 10\n",
    "plt.title(\"Label: \" + str(fashion_train_labels[test_index]))\n",
    "plt.imshow(fashion_train_data[test_index], cmap=\"gray\")"
   ]
  },
  {
   "cell_type": "markdown",
   "metadata": {},
   "source": [
    "## Standarizing images\n",
    "\n",
    "standarizing data images and creating one hot labels"
   ]
  },
  {
   "cell_type": "markdown",
   "metadata": {},
   "source": [
    "#### TO DO: Preprocess the data\n",
    "\n",
    "1. Normalize the input data set\n",
    "2. Perform one hot encoding\n",
    "3. Create a train, test, and validation set"
   ]
  },
  {
   "cell_type": "code",
   "execution_count": 3,
   "metadata": {},
   "outputs": [
    {
     "name": "stdout",
     "output_type": "stream",
     "text": [
      "(50000, 784)\n",
      "(50000, 10)\n"
     ]
    }
   ],
   "source": [
    "fashion_train_data = fashion_train_data.reshape((60000, 28 * 28))\n",
    "fashion_train_data = fashion_train_data.astype('float32') / 255 \n",
    "\n",
    "fashion_test_data = fashion_test_data.reshape((10000, 28 * 28)) \n",
    "fashion_test_data = fashion_test_data.astype('float32') / 255\n",
    "\n",
    "# one hot encoding\n",
    "fashion_one_hot_labels = to_categorical(fashion_train_labels)\n",
    "fashion_test_one_hot_labels = to_categorical(fashion_test_labels)\n",
    "\n",
    "#creating validation set for first 10000 elements\n",
    "fashion_validation_data = fashion_train_data[:10000]\n",
    "fashion_validation_labels = fashion_one_hot_labels[:10000]\n",
    "\n",
    "#creating input set\n",
    "x_data = fashion_train_data[10000:]\n",
    "y_data = fashion_one_hot_labels[10000:]\n",
    "print(x_data.shape)\n",
    "print(y_data.shape)"
   ]
  },
  {
   "cell_type": "markdown",
   "metadata": {},
   "source": [
    "#### TO DO: Define and train a network, then plot the accuracy of the training, validation, and testing\n",
    "\n",
    "1. Use a validation set\n",
    "2. Propose and train a network\n",
    "3. Print the history of the training\n",
    "4. Evaluate with a test set"
   ]
  },
  {
   "cell_type": "code",
   "execution_count": 4,
   "metadata": {},
   "outputs": [
    {
     "name": "stdout",
     "output_type": "stream",
     "text": [
      "_________________________________________________________________\n",
      "Layer (type)                 Output Shape              Param #   \n",
      "=================================================================\n",
      "dense_1 (Dense)              (None, 256)               200960    \n",
      "_________________________________________________________________\n",
      "dropout_1 (Dropout)          (None, 256)               0         \n",
      "_________________________________________________________________\n",
      "dense_2 (Dense)              (None, 128)               32896     \n",
      "_________________________________________________________________\n",
      "dropout_2 (Dropout)          (None, 128)               0         \n",
      "_________________________________________________________________\n",
      "dense_3 (Dense)              (None, 10)                1290      \n",
      "=================================================================\n",
      "Total params: 235,146\n",
      "Trainable params: 235,146\n",
      "Non-trainable params: 0\n",
      "_________________________________________________________________\n"
     ]
    }
   ],
   "source": [
    "#building keras model\n",
    "model = models.Sequential()\n",
    "model.add(layers.Dense(256, activation='relu', input_dim=784))\n",
    "model.add(layers.Dropout(0.4))\n",
    "model.add(layers.Dense(128, activation='relu'))\n",
    "model.add(layers.Dropout(0.4))\n",
    "model.add(layers.Dense(len(fashion_one_hot_labels[0]), activation='softmax'))\n",
    "model.summary()\n",
    "\n",
    "# included the early stopping which monitors the validation loss\n",
    "early_stop = callbacks.EarlyStopping(monitor='val_loss', patience=4)\n",
    "model.compile(loss='binary_crossentropy', \n",
    "              optimizer='rmsprop',\n",
    "              metrics=['accuracy'])"
   ]
  },
  {
   "cell_type": "code",
   "execution_count": 5,
   "metadata": {},
   "outputs": [
    {
     "name": "stdout",
     "output_type": "stream",
     "text": [
      "Train on 50000 samples, validate on 10000 samples\n",
      "Epoch 1/40\n",
      " - 2s - loss: 0.1405 - acc: 0.9448 - val_loss: 0.0945 - val_acc: 0.9615\n",
      "Epoch 2/40\n",
      " - 2s - loss: 0.0951 - acc: 0.9618 - val_loss: 0.0777 - val_acc: 0.9688\n",
      "Epoch 3/40\n",
      " - 2s - loss: 0.0841 - acc: 0.9662 - val_loss: 0.0706 - val_acc: 0.9714\n",
      "Epoch 4/40\n",
      " - 1s - loss: 0.0774 - acc: 0.9691 - val_loss: 0.0748 - val_acc: 0.9702\n",
      "Epoch 5/40\n",
      " - 2s - loss: 0.0738 - acc: 0.9705 - val_loss: 0.0666 - val_acc: 0.9725\n",
      "Epoch 6/40\n",
      " - 1s - loss: 0.0711 - acc: 0.9718 - val_loss: 0.0626 - val_acc: 0.9751\n",
      "Epoch 7/40\n",
      " - 2s - loss: 0.0680 - acc: 0.9727 - val_loss: 0.0636 - val_acc: 0.9740\n",
      "Epoch 8/40\n",
      " - 1s - loss: 0.0662 - acc: 0.9737 - val_loss: 0.0613 - val_acc: 0.9760\n",
      "Epoch 9/40\n",
      " - 2s - loss: 0.0642 - acc: 0.9747 - val_loss: 0.0626 - val_acc: 0.9741\n",
      "Epoch 10/40\n",
      " - 2s - loss: 0.0623 - acc: 0.9751 - val_loss: 0.0634 - val_acc: 0.9746\n",
      "Epoch 11/40\n",
      " - 1s - loss: 0.0622 - acc: 0.9753 - val_loss: 0.0585 - val_acc: 0.9764\n",
      "Epoch 12/40\n",
      " - 1s - loss: 0.0603 - acc: 0.9763 - val_loss: 0.0596 - val_acc: 0.9763\n",
      "Epoch 13/40\n",
      " - 1s - loss: 0.0595 - acc: 0.9764 - val_loss: 0.0591 - val_acc: 0.9763\n",
      "Epoch 14/40\n",
      " - 2s - loss: 0.0582 - acc: 0.9769 - val_loss: 0.0563 - val_acc: 0.9776\n",
      "Epoch 15/40\n",
      " - 1s - loss: 0.0572 - acc: 0.9773 - val_loss: 0.0560 - val_acc: 0.9777\n",
      "Epoch 16/40\n",
      " - 2s - loss: 0.0563 - acc: 0.9775 - val_loss: 0.0581 - val_acc: 0.9770\n",
      "Epoch 17/40\n",
      " - 1s - loss: 0.0559 - acc: 0.9780 - val_loss: 0.0574 - val_acc: 0.9776\n",
      "Epoch 18/40\n",
      " - 2s - loss: 0.0545 - acc: 0.9784 - val_loss: 0.0556 - val_acc: 0.9782\n",
      "Epoch 19/40\n",
      " - 2s - loss: 0.0544 - acc: 0.9785 - val_loss: 0.0557 - val_acc: 0.9786\n",
      "Epoch 20/40\n",
      " - 2s - loss: 0.0532 - acc: 0.9787 - val_loss: 0.0542 - val_acc: 0.9789\n",
      "Epoch 21/40\n",
      " - 2s - loss: 0.0532 - acc: 0.9788 - val_loss: 0.0545 - val_acc: 0.9786\n",
      "Epoch 22/40\n",
      " - 2s - loss: 0.0520 - acc: 0.9792 - val_loss: 0.0536 - val_acc: 0.9787\n",
      "Epoch 23/40\n",
      " - 2s - loss: 0.0518 - acc: 0.9793 - val_loss: 0.0546 - val_acc: 0.9788\n",
      "Epoch 24/40\n",
      " - 2s - loss: 0.0510 - acc: 0.9795 - val_loss: 0.0530 - val_acc: 0.9797\n",
      "Epoch 25/40\n",
      " - 2s - loss: 0.0503 - acc: 0.9797 - val_loss: 0.0563 - val_acc: 0.9790\n",
      "Epoch 26/40\n",
      " - 2s - loss: 0.0500 - acc: 0.9799 - val_loss: 0.0563 - val_acc: 0.9785\n",
      "Epoch 27/40\n",
      " - 1s - loss: 0.0500 - acc: 0.9801 - val_loss: 0.0569 - val_acc: 0.9785\n",
      "Epoch 28/40\n",
      " - 2s - loss: 0.0491 - acc: 0.9803 - val_loss: 0.0538 - val_acc: 0.9794\n",
      "Epoch 29/40\n",
      " - 2s - loss: 0.0486 - acc: 0.9805 - val_loss: 0.0556 - val_acc: 0.9788\n",
      "Epoch 30/40\n",
      " - 2s - loss: 0.0484 - acc: 0.9808 - val_loss: 0.0557 - val_acc: 0.9785\n",
      "Epoch 31/40\n",
      " - 2s - loss: 0.0475 - acc: 0.9808 - val_loss: 0.0535 - val_acc: 0.9799\n",
      "Epoch 32/40\n",
      " - 2s - loss: 0.0472 - acc: 0.9810 - val_loss: 0.0548 - val_acc: 0.9782\n",
      "Epoch 33/40\n",
      " - 2s - loss: 0.0468 - acc: 0.9813 - val_loss: 0.0540 - val_acc: 0.9798\n",
      "Epoch 34/40\n",
      " - 1s - loss: 0.0464 - acc: 0.9813 - val_loss: 0.0560 - val_acc: 0.9786\n",
      "Epoch 35/40\n",
      " - 1s - loss: 0.0461 - acc: 0.9816 - val_loss: 0.0533 - val_acc: 0.9799\n",
      "Epoch 36/40\n",
      " - 2s - loss: 0.0456 - acc: 0.9816 - val_loss: 0.0532 - val_acc: 0.9801\n",
      "Epoch 37/40\n",
      " - 1s - loss: 0.0453 - acc: 0.9820 - val_loss: 0.0545 - val_acc: 0.9802\n",
      "Epoch 38/40\n",
      " - 2s - loss: 0.0455 - acc: 0.9818 - val_loss: 0.0538 - val_acc: 0.9801\n",
      "Epoch 39/40\n",
      " - 2s - loss: 0.0448 - acc: 0.9821 - val_loss: 0.0566 - val_acc: 0.9789\n",
      "Epoch 40/40\n",
      " - 2s - loss: 0.0441 - acc: 0.9825 - val_loss: 0.0548 - val_acc: 0.9794\n"
     ]
    }
   ],
   "source": [
    "history = model.fit(x_data, y_data,\n",
    "          batch_size=512,\n",
    "          epochs=40,\n",
    "          validation_data=(fashion_validation_data, fashion_validation_labels), \n",
    "          verbose=2)"
   ]
  },
  {
   "cell_type": "code",
   "execution_count": 6,
   "metadata": {},
   "outputs": [
    {
     "name": "stdout",
     "output_type": "stream",
     "text": [
      "10000/10000 [==============================] - 1s 51us/step\n",
      "[0.05969774923473597, 0.9779400042533875]\n",
      "dict_keys(['val_loss', 'val_acc', 'loss', 'acc'])\n"
     ]
    },
    {
     "data": {
      "image/png": "[encoded data removed]",
      "text/plain": [
       "<Figure size 432x288 with 1 Axes>"
      ]
     },
     "metadata": {
      "needs_background": "light"
     },
     "output_type": "display_data"
    }
   ],
   "source": [
    "#evaluating the model with the test data\n",
    "results = model.evaluate(fashion_test_data, fashion_test_one_hot_labels)\n",
    "print(results)\n",
    "\n",
    "history_dict = history.history\n",
    "print(history_dict.keys())\n",
    "\n",
    "#creating list variables for plotting validation\n",
    "acc = history_dict['acc']\n",
    "val_acc = history_dict['val_acc']\n",
    "loss = history_dict['loss']\n",
    "val_loss = history_dict['val_loss']\n",
    "epochs = range(1, len(acc) + 1)\n",
    "\n",
    "\n",
    "\n",
    "#plotting validation and training loss\n",
    "\n",
    "plt.plot(epochs, loss, 'bo', label='Training loss')\n",
    "plt.plot(epochs, val_loss, 'b', label='Validation loss')\n",
    "plt.title('Training and validation loss')\n",
    "plt.xlabel('Epochs')\n",
    "plt.ylabel('Loss')\n",
    "plt.legend()\n",
    "\n",
    "plt.show()"
   ]
  },
  {
   "cell_type": "code",
   "execution_count": 7,
   "metadata": {},
   "outputs": [
    {
     "data": {
      "image/png": "[encoded data removed]",
      "text/plain": [
       "<Figure size 432x288 with 1 Axes>"
      ]
     },
     "metadata": {
      "needs_background": "light"
     },
     "output_type": "display_data"
    }
   ],
   "source": [
    "#plotting validation and train accuracy\n",
    "\n",
    "plt.clf()\n",
    "\n",
    "plt.plot(epochs, acc, 'bo', label='Training acc')\n",
    "plt.plot(epochs, val_acc, 'b', label='Validation acc')\n",
    "plt.title('Training and validation accuracy')\n",
    "plt.xlabel('Epochs')\n",
    "plt.ylabel('Accuracy')\n",
    "plt.legend()\n",
    "\n",
    "plt.show()"
   ]
  },
  {
   "cell_type": "markdown",
   "metadata": {},
   "source": [
    "## Classifying newswires\n",
    "\n",
    "---\n",
    "\n",
    "Build a network to classify Reuters newswires into 46 different mutually-exclusive topics."
   ]
  },
  {
   "cell_type": "markdown",
   "metadata": {},
   "source": [
    "### Load and review the data"
   ]
  },
  {
   "cell_type": "code",
   "execution_count": 8,
   "metadata": {},
   "outputs": [
    {
     "ename": "NameError",
     "evalue": "name 'reuters_train_data' is not defined",
     "output_type": "error",
     "traceback": [
      "\u001b[0;31m---------------------------------------------------------------------------\u001b[0m",
      "\u001b[0;31mNameError\u001b[0m                                 Traceback (most recent call last)",
      "\u001b[0;32m<ipython-input-8-2552efc441ba>\u001b[0m in \u001b[0;36m<module>\u001b[0;34m\u001b[0m\n\u001b[0;32m----> 1\u001b[0;31m \u001b[0;34m(\u001b[0m\u001b[0mreuters_train_data\u001b[0m\u001b[0;34m,\u001b[0m \u001b[0mreuters_train_labels\u001b[0m\u001b[0;34m)\u001b[0m\u001b[0;34m,\u001b[0m\u001b[0;34m\u001b[0m\u001b[0;34m\u001b[0m\u001b[0m\n\u001b[0m\u001b[1;32m      2\u001b[0m \u001b[0;34m(\u001b[0m\u001b[0mreuters_test_data\u001b[0m\u001b[0;34m,\u001b[0m \u001b[0mreuters_test_labels\u001b[0m\u001b[0;34m)\u001b[0m \u001b[0;34m=\u001b[0m \u001b[0mreuters\u001b[0m\u001b[0;34m.\u001b[0m\u001b[0mload_data\u001b[0m\u001b[0;34m(\u001b[0m\u001b[0mnum_words\u001b[0m\u001b[0;34m=\u001b[0m\u001b[0;36m10000\u001b[0m\u001b[0;34m)\u001b[0m\u001b[0;34m\u001b[0m\u001b[0;34m\u001b[0m\u001b[0m\n\u001b[1;32m      3\u001b[0m \u001b[0;34m\u001b[0m\u001b[0m\n\u001b[1;32m      4\u001b[0m \u001b[0mprint\u001b[0m\u001b[0;34m(\u001b[0m\u001b[0mreuters_train_data\u001b[0m\u001b[0;34m.\u001b[0m\u001b[0mshape\u001b[0m\u001b[0;34m)\u001b[0m\u001b[0;34m\u001b[0m\u001b[0;34m\u001b[0m\u001b[0m\n\u001b[1;32m      5\u001b[0m \u001b[0mprint\u001b[0m\u001b[0;34m(\u001b[0m\u001b[0mreuters_train_labels\u001b[0m\u001b[0;34m.\u001b[0m\u001b[0mshape\u001b[0m\u001b[0;34m)\u001b[0m\u001b[0;34m\u001b[0m\u001b[0;34m\u001b[0m\u001b[0m\n",
      "\u001b[0;31mNameError\u001b[0m: name 'reuters_train_data' is not defined"
     ]
    }
   ],
   "source": [
    "(reuters_train_data, reuters_train_labels), \n",
    "(reuters_test_data, reuters_test_labels) = reuters.load_data(num_words=10000)\n",
    "\n",
    "print(reuters_train_data.shape)\n",
    "print(reuters_train_labels.shape)\n",
    "print(reuters_train_data[0])\n",
    "print(reuters_train_labels[0])\n",
    "\n",
    "print(set(reuters_train_labels))"
   ]
  },
  {
   "cell_type": "markdown",
   "metadata": {},
   "source": [
    "Load the word index to decode the train data."
   ]
  },
  {
   "cell_type": "code",
   "execution_count": null,
   "metadata": {},
   "outputs": [],
   "source": [
    "word_index = reuters.get_word_index()\n",
    "\n",
    "reverse_index = dict([(value+3, key) for (key, value) in word_index.items()])\n",
    "\n",
    "reverse_index[0] = \"<PAD>\"\n",
    "reverse_index[1] = \"<START>\"\n",
    "reverse_index[2] = \"<UNKNOWN>\"  # unknown\n",
    "reverse_index[3] = \"<UNUSED>\"\n",
    "\n",
    "decoded_review = ' '.join([reverse_index.get(i,'?') for i in reuters_train_data[0]])\n",
    "\n",
    "print(decoded_review)"
   ]
  },
  {
   "cell_type": "markdown",
   "metadata": {},
   "source": [
    "#### TO DO: Preprocess the data\n",
    "\n",
    "1. Normalize the input data set\n",
    "2. Perform one hot encoding\n",
    "3. Create a train, test, and validation set"
   ]
  },
  {
   "cell_type": "markdown",
   "metadata": {},
   "source": [
    "#### TO DO: Define and train a network, then plot the accuracy of the training, validation, and testing\n",
    "\n",
    "1. Use a validation set\n",
    "2. Propose and train a network\n",
    "3. Print the history of the training\n",
    "4. Evaluate with a test set"
   ]
  },
  {
   "cell_type": "markdown",
   "metadata": {},
   "source": [
    "## Predicting Student Admissions\n",
    "\n",
    "---\n",
    "\n",
    "Predict student admissions based on three pieces of data:\n",
    "\n",
    "- GRE Scores\n",
    "- GPA Scores\n",
    "- Class rank"
   ]
  },
  {
   "cell_type": "markdown",
   "metadata": {},
   "source": [
    "### Load and visualize the data"
   ]
  },
  {
   "cell_type": "code",
   "execution_count": null,
   "metadata": {},
   "outputs": [],
   "source": [
    "student_data = pd.read_csv(\"data/student_data.csv\")\n",
    "print(student_data)"
   ]
  },
  {
   "cell_type": "markdown",
   "metadata": {},
   "source": [
    "Plot of the GRE and the GPA from the data."
   ]
  },
  {
   "cell_type": "code",
   "execution_count": null,
   "metadata": {},
   "outputs": [],
   "source": [
    "X = np.array(student_data[[\"gre\",\"gpa\"]])\n",
    "y = np.array(student_data[\"admit\"])\n",
    "admitted = X[np.argwhere(y==1)]\n",
    "rejected = X[np.argwhere(y==0)]\n",
    "plt.scatter([s[0][0] for s in rejected], [s[0][1] for s in rejected], s = 25, color = 'red', edgecolor = 'k')\n",
    "plt.scatter([s[0][0] for s in admitted], [s[0][1] for s in admitted], s = 25, color = 'cyan', edgecolor = 'k')\n",
    "plt.xlabel('Test (GRE)')\n",
    "plt.ylabel('Grades (GPA)')\n",
    "\n",
    "plt.show()"
   ]
  },
  {
   "cell_type": "markdown",
   "metadata": {},
   "source": [
    "Plot of the data by class rank."
   ]
  },
  {
   "cell_type": "code",
   "execution_count": null,
   "metadata": {},
   "outputs": [],
   "source": [
    "f, plots = plt.subplots(2, 2, figsize=(20,10))\n",
    "plots = [plot for sublist in plots for plot in sublist]\n",
    "\n",
    "for idx, plot in enumerate(plots):\n",
    "    data_rank = data[data[\"rank\"]==idx+1]\n",
    "    plot.set_title(\"Rank \" + str(idx+1))\n",
    "    X = np.array(data_rank[[\"gre\",\"gpa\"]])\n",
    "    y = np.array(data_rank[\"admit\"])\n",
    "    admitted = X[np.argwhere(y==1)]\n",
    "    rejected = X[np.argwhere(y==0)]\n",
    "    plot.scatter([s[0][0] for s in rejected], [s[0][1] for s in rejected], s = 25, color = 'red', edgecolor = 'k')\n",
    "    plot.scatter([s[0][0] for s in admitted], [s[0][1] for s in admitted], s = 25, color = 'cyan', edgecolor = 'k')\n",
    "    plot.set_xlabel('Test (GRE)')\n",
    "    plot.set_ylabel('Grades (GPA)')\n",
    "    "
   ]
  },
  {
   "cell_type": "markdown",
   "metadata": {},
   "source": [
    "#### TO DO: Preprocess the data\n",
    "\n",
    "1. Normalize the input data set\n",
    "2. Perform one hot encoding\n",
    "3. Create a train, test, and validation set"
   ]
  },
  {
   "cell_type": "markdown",
   "metadata": {},
   "source": [
    "#### TO DO: Define and train a network, then plot the accuracy of the training, validation, and testing\n",
    "\n",
    "1. Use a validation set\n",
    "2. Propose and train a network\n",
    "3. Print the history of the training\n",
    "4. Evaluate with a test set"
   ]
  }
 ],
 "metadata": {
  "kernelspec": {
   "display_name": "Python 3",
   "language": "python",
   "name": "python3"
  },
  "language_info": {
   "codemirror_mode": {
    "name": "ipython",
    "version": 3
   },
   "file_extension": ".py",
   "mimetype": "text/x-python",
   "name": "python",
   "nbconvert_exporter": "python",
   "pygments_lexer": "ipython3",
   "version": "3.6.8"
  }
 },
 "nbformat": 4,
 "nbformat_minor": 2
}
